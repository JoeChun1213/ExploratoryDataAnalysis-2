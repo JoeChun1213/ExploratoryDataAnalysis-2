{
 "cells": [
  {
   "cell_type": "markdown",
   "metadata": {},
   "source": [
    "**In this project, we aim to predict using the features of kickstart projects whether the project is funded or not. Towards this end, we clean and preprocess the data sets and ananlyse the importance of individual features, relationship among features. We derived a few new features which deemed good in predictitability of the project. We then employ the patterns among these features for prediction using K-nearest neigbhours and Decision tree classifier. The Performance of both the methods are compared in terms of average prediction accuracy. We also breifly discuss the importance of features in prediction**\n",
    "\n",
    "\n",
    "# Contents\n",
    "\n",
    "\n",
    "1. Loading datasets\n",
    "2. Data cleaning and Derivation of three new features\n",
    "3. Exploratory data analysis\n",
    "4. Prediction analysis, using\n",
    "   *  knn                        (given estimator)\n",
    "      - Chosing the value of parameter k using validation set\n",
    "   *  decision-tree classifier   (additional estimator)\n",
    "      - Chosing the number of branched using validation set\n",
    "5. Performance of prediction\n",
    "6. Feature selection (importance of features)"
   ]
  },
  {
   "cell_type": "code",
   "execution_count": 1,
   "metadata": {},
   "outputs": [],
   "source": [
    "# Importing necessary modules and functions\n",
    "\n",
    "import pandas as pd\n",
    "import seaborn as sns\n",
    "import numpy as np\n",
    "\n",
    "import matplotlib.pyplot as plt\n",
    "#matplotlib inline\n",
    "\n",
    "#from matplotlib.pylab import rcParams\n",
    "#rcParams['figure.figsize'] = 16, 8\n",
    "\n",
    "from scipy.stats import norm\n",
    "from scipy import stats\n",
    "\n",
    "from sklearn.preprocessing import StandardScaler\n",
    "from sklearn.model_selection import train_test_split \n",
    "from sklearn.neighbors import KNeighborsClassifier     # For KNN\n",
    "from sklearn.tree import DecisionTreeClassifier       # For decision tree classifier  \n",
    "\n",
    "from sklearn.model_selection import GridSearchCV       # For cross validation\n",
    "\n",
    "#import warnings\n",
    "#warnings.filterwarnings('ignore')\n",
    "import random"
   ]
  },
  {
   "cell_type": "code",
   "execution_count": 2,
   "metadata": {},
   "outputs": [
    {
     "name": "stdout",
     "output_type": "stream",
     "text": [
      "Help on module random:\n",
      "\n",
      "NAME\n",
      "    random - Random variable generators.\n",
      "\n",
      "DESCRIPTION\n",
      "        integers\n",
      "        --------\n",
      "               uniform within range\n",
      "    \n",
      "        sequences\n",
      "        ---------\n",
      "               pick random element\n",
      "               pick random sample\n",
      "               pick weighted random sample\n",
      "               generate random permutation\n",
      "    \n",
      "        distributions on the real line:\n",
      "        ------------------------------\n",
      "               uniform\n",
      "               triangular\n",
      "               normal (Gaussian)\n",
      "               lognormal\n",
      "               negative exponential\n",
      "               gamma\n",
      "               beta\n",
      "               pareto\n",
      "               Weibull\n",
      "    \n",
      "        distributions on the circle (angles 0 to 2pi)\n",
      "        ---------------------------------------------\n",
      "               circular uniform\n",
      "               von Mises\n",
      "    \n",
      "    General notes on the underlying Mersenne Twister core generator:\n",
      "    \n",
      "    * The period is 2**19937-1.\n",
      "    * It is one of the most extensively tested generators in existence.\n",
      "    * The random() method is implemented in C, executes in a single Python step,\n",
      "      and is, therefore, threadsafe.\n",
      "\n",
      "CLASSES\n",
      "    _random.Random(builtins.object)\n",
      "        Random\n",
      "            SystemRandom\n",
      "    \n",
      "    class Random(_random.Random)\n",
      "     |  Random(x=None)\n",
      "     |  \n",
      "     |  Random number generator base class used by bound module functions.\n",
      "     |  \n",
      "     |  Used to instantiate instances of Random to get generators that don't\n",
      "     |  share state.\n",
      "     |  \n",
      "     |  Class Random can also be subclassed if you want to use a different basic\n",
      "     |  generator of your own devising: in that case, override the following\n",
      "     |  methods:  random(), seed(), getstate(), and setstate().\n",
      "     |  Optionally, implement a getrandbits() method so that randrange()\n",
      "     |  can cover arbitrarily large ranges.\n",
      "     |  \n",
      "     |  Method resolution order:\n",
      "     |      Random\n",
      "     |      _random.Random\n",
      "     |      builtins.object\n",
      "     |  \n",
      "     |  Methods defined here:\n",
      "     |  \n",
      "     |  __getstate__(self)\n",
      "     |      # Issue 17489: Since __reduce__ was defined to fix #759889 this is no\n",
      "     |      # longer called; we leave it here because it has been here since random was\n",
      "     |      # rewritten back in 2001 and why risk breaking something.\n",
      "     |  \n",
      "     |  __init__(self, x=None)\n",
      "     |      Initialize an instance.\n",
      "     |      \n",
      "     |      Optional argument x controls seeding, as for Random.seed().\n",
      "     |  \n",
      "     |  __reduce__(self)\n",
      "     |      Helper for pickle.\n",
      "     |  \n",
      "     |  __setstate__(self, state)\n",
      "     |  \n",
      "     |  betavariate(self, alpha, beta)\n",
      "     |      Beta distribution.\n",
      "     |      \n",
      "     |      Conditions on the parameters are alpha > 0 and beta > 0.\n",
      "     |      Returned values range between 0 and 1.\n",
      "     |  \n",
      "     |  choice(self, seq)\n",
      "     |      Choose a random element from a non-empty sequence.\n",
      "     |  \n",
      "     |  choices(self, population, weights=None, *, cum_weights=None, k=1)\n",
      "     |      Return a k sized list of population elements chosen with replacement.\n",
      "     |      \n",
      "     |      If the relative weights or cumulative weights are not specified,\n",
      "     |      the selections are made with equal probability.\n",
      "     |  \n",
      "     |  expovariate(self, lambd)\n",
      "     |      Exponential distribution.\n",
      "     |      \n",
      "     |      lambd is 1.0 divided by the desired mean.  It should be\n",
      "     |      nonzero.  (The parameter would be called \"lambda\", but that is\n",
      "     |      a reserved word in Python.)  Returned values range from 0 to\n",
      "     |      positive infinity if lambd is positive, and from negative\n",
      "     |      infinity to 0 if lambd is negative.\n",
      "     |  \n",
      "     |  gammavariate(self, alpha, beta)\n",
      "     |      Gamma distribution.  Not the gamma function!\n",
      "     |      \n",
      "     |      Conditions on the parameters are alpha > 0 and beta > 0.\n",
      "     |      \n",
      "     |      The probability distribution function is:\n",
      "     |      \n",
      "     |                  x ** (alpha - 1) * math.exp(-x / beta)\n",
      "     |        pdf(x) =  --------------------------------------\n",
      "     |                    math.gamma(alpha) * beta ** alpha\n",
      "     |  \n",
      "     |  gauss(self, mu, sigma)\n",
      "     |      Gaussian distribution.\n",
      "     |      \n",
      "     |      mu is the mean, and sigma is the standard deviation.  This is\n",
      "     |      slightly faster than the normalvariate() function.\n",
      "     |      \n",
      "     |      Not thread-safe without a lock around calls.\n",
      "     |  \n",
      "     |  getstate(self)\n",
      "     |      Return internal state; can be passed to setstate() later.\n",
      "     |  \n",
      "     |  lognormvariate(self, mu, sigma)\n",
      "     |      Log normal distribution.\n",
      "     |      \n",
      "     |      If you take the natural logarithm of this distribution, you'll get a\n",
      "     |      normal distribution with mean mu and standard deviation sigma.\n",
      "     |      mu can have any value, and sigma must be greater than zero.\n",
      "     |  \n",
      "     |  normalvariate(self, mu, sigma)\n",
      "     |      Normal distribution.\n",
      "     |      \n",
      "     |      mu is the mean, and sigma is the standard deviation.\n",
      "     |  \n",
      "     |  paretovariate(self, alpha)\n",
      "     |      Pareto distribution.  alpha is the shape parameter.\n",
      "     |  \n",
      "     |  randint(self, a, b)\n",
      "     |      Return random integer in range [a, b], including both end points.\n",
      "     |  \n",
      "     |  randrange(self, start, stop=None, step=1, _int=<class 'int'>)\n",
      "     |      Choose a random item from range(start, stop[, step]).\n",
      "     |      \n",
      "     |      This fixes the problem with randint() which includes the\n",
      "     |      endpoint; in Python this is usually not what you want.\n",
      "     |  \n",
      "     |  sample(self, population, k)\n",
      "     |      Chooses k unique random elements from a population sequence or set.\n",
      "     |      \n",
      "     |      Returns a new list containing elements from the population while\n",
      "     |      leaving the original population unchanged.  The resulting list is\n",
      "     |      in selection order so that all sub-slices will also be valid random\n",
      "     |      samples.  This allows raffle winners (the sample) to be partitioned\n",
      "     |      into grand prize and second place winners (the subslices).\n",
      "     |      \n",
      "     |      Members of the population need not be hashable or unique.  If the\n",
      "     |      population contains repeats, then each occurrence is a possible\n",
      "     |      selection in the sample.\n",
      "     |      \n",
      "     |      To choose a sample in a range of integers, use range as an argument.\n",
      "     |      This is especially fast and space efficient for sampling from a\n",
      "     |      large population:   sample(range(10000000), 60)\n",
      "     |  \n",
      "     |  seed(self, a=None, version=2)\n",
      "     |      Initialize internal state from hashable object.\n",
      "     |      \n",
      "     |      None or no argument seeds from current time or from an operating\n",
      "     |      system specific randomness source if available.\n",
      "     |      \n",
      "     |      If *a* is an int, all bits are used.\n",
      "     |      \n",
      "     |      For version 2 (the default), all of the bits are used if *a* is a str,\n",
      "     |      bytes, or bytearray.  For version 1 (provided for reproducing random\n",
      "     |      sequences from older versions of Python), the algorithm for str and\n",
      "     |      bytes generates a narrower range of seeds.\n",
      "     |  \n",
      "     |  setstate(self, state)\n",
      "     |      Restore internal state from object returned by getstate().\n",
      "     |  \n",
      "     |  shuffle(self, x, random=None)\n",
      "     |      Shuffle list x in place, and return None.\n",
      "     |      \n",
      "     |      Optional argument random is a 0-argument function returning a\n",
      "     |      random float in [0.0, 1.0); if it is the default None, the\n",
      "     |      standard random.random will be used.\n",
      "     |  \n",
      "     |  triangular(self, low=0.0, high=1.0, mode=None)\n",
      "     |      Triangular distribution.\n",
      "     |      \n",
      "     |      Continuous distribution bounded by given lower and upper limits,\n",
      "     |      and having a given mode value in-between.\n",
      "     |      \n",
      "     |      http://en.wikipedia.org/wiki/Triangular_distribution\n",
      "     |  \n",
      "     |  uniform(self, a, b)\n",
      "     |      Get a random number in the range [a, b) or [a, b] depending on rounding.\n",
      "     |  \n",
      "     |  vonmisesvariate(self, mu, kappa)\n",
      "     |      Circular data distribution.\n",
      "     |      \n",
      "     |      mu is the mean angle, expressed in radians between 0 and 2*pi, and\n",
      "     |      kappa is the concentration parameter, which must be greater than or\n",
      "     |      equal to zero.  If kappa is equal to zero, this distribution reduces\n",
      "     |      to a uniform random angle over the range 0 to 2*pi.\n",
      "     |  \n",
      "     |  weibullvariate(self, alpha, beta)\n",
      "     |      Weibull distribution.\n",
      "     |      \n",
      "     |      alpha is the scale parameter and beta is the shape parameter.\n",
      "     |  \n",
      "     |  ----------------------------------------------------------------------\n",
      "     |  Data descriptors defined here:\n",
      "     |  \n",
      "     |  __dict__\n",
      "     |      dictionary for instance variables (if defined)\n",
      "     |  \n",
      "     |  __weakref__\n",
      "     |      list of weak references to the object (if defined)\n",
      "     |  \n",
      "     |  ----------------------------------------------------------------------\n",
      "     |  Data and other attributes defined here:\n",
      "     |  \n",
      "     |  VERSION = 3\n",
      "     |  \n",
      "     |  ----------------------------------------------------------------------\n",
      "     |  Methods inherited from _random.Random:\n",
      "     |  \n",
      "     |  __getattribute__(self, name, /)\n",
      "     |      Return getattr(self, name).\n",
      "     |  \n",
      "     |  getrandbits(...)\n",
      "     |      getrandbits(k) -> x.  Generates an int with k random bits.\n",
      "     |  \n",
      "     |  random(...)\n",
      "     |      random() -> x in the interval [0, 1).\n",
      "     |  \n",
      "     |  ----------------------------------------------------------------------\n",
      "     |  Static methods inherited from _random.Random:\n",
      "     |  \n",
      "     |  __new__(*args, **kwargs) from builtins.type\n",
      "     |      Create and return a new object.  See help(type) for accurate signature.\n",
      "    \n",
      "    class SystemRandom(Random)\n",
      "     |  SystemRandom(x=None)\n",
      "     |  \n",
      "     |  Alternate random number generator using sources provided\n",
      "     |  by the operating system (such as /dev/urandom on Unix or\n",
      "     |  CryptGenRandom on Windows).\n",
      "     |  \n",
      "     |   Not available on all systems (see os.urandom() for details).\n",
      "     |  \n",
      "     |  Method resolution order:\n",
      "     |      SystemRandom\n",
      "     |      Random\n",
      "     |      _random.Random\n",
      "     |      builtins.object\n",
      "     |  \n",
      "     |  Methods defined here:\n",
      "     |  \n",
      "     |  getrandbits(self, k)\n",
      "     |      getrandbits(k) -> x.  Generates an int with k random bits.\n",
      "     |  \n",
      "     |  getstate = _notimplemented(self, *args, **kwds)\n",
      "     |  \n",
      "     |  random(self)\n",
      "     |      Get the next random number in the range [0.0, 1.0).\n",
      "     |  \n",
      "     |  seed(self, *args, **kwds)\n",
      "     |      Stub method.  Not used for a system random number generator.\n",
      "     |  \n",
      "     |  setstate = _notimplemented(self, *args, **kwds)\n",
      "     |  \n",
      "     |  ----------------------------------------------------------------------\n",
      "     |  Methods inherited from Random:\n",
      "     |  \n",
      "     |  __getstate__(self)\n",
      "     |      # Issue 17489: Since __reduce__ was defined to fix #759889 this is no\n",
      "     |      # longer called; we leave it here because it has been here since random was\n",
      "     |      # rewritten back in 2001 and why risk breaking something.\n",
      "     |  \n",
      "     |  __init__(self, x=None)\n",
      "     |      Initialize an instance.\n",
      "     |      \n",
      "     |      Optional argument x controls seeding, as for Random.seed().\n",
      "     |  \n",
      "     |  __reduce__(self)\n",
      "     |      Helper for pickle.\n",
      "     |  \n",
      "     |  __setstate__(self, state)\n",
      "     |  \n",
      "     |  betavariate(self, alpha, beta)\n",
      "     |      Beta distribution.\n",
      "     |      \n",
      "     |      Conditions on the parameters are alpha > 0 and beta > 0.\n",
      "     |      Returned values range between 0 and 1.\n",
      "     |  \n",
      "     |  choice(self, seq)\n",
      "     |      Choose a random element from a non-empty sequence.\n",
      "     |  \n",
      "     |  choices(self, population, weights=None, *, cum_weights=None, k=1)\n",
      "     |      Return a k sized list of population elements chosen with replacement.\n",
      "     |      \n",
      "     |      If the relative weights or cumulative weights are not specified,\n",
      "     |      the selections are made with equal probability.\n",
      "     |  \n",
      "     |  expovariate(self, lambd)\n",
      "     |      Exponential distribution.\n",
      "     |      \n",
      "     |      lambd is 1.0 divided by the desired mean.  It should be\n",
      "     |      nonzero.  (The parameter would be called \"lambda\", but that is\n",
      "     |      a reserved word in Python.)  Returned values range from 0 to\n",
      "     |      positive infinity if lambd is positive, and from negative\n",
      "     |      infinity to 0 if lambd is negative.\n",
      "     |  \n",
      "     |  gammavariate(self, alpha, beta)\n",
      "     |      Gamma distribution.  Not the gamma function!\n",
      "     |      \n",
      "     |      Conditions on the parameters are alpha > 0 and beta > 0.\n",
      "     |      \n",
      "     |      The probability distribution function is:\n",
      "     |      \n",
      "     |                  x ** (alpha - 1) * math.exp(-x / beta)\n",
      "     |        pdf(x) =  --------------------------------------\n",
      "     |                    math.gamma(alpha) * beta ** alpha\n",
      "     |  \n",
      "     |  gauss(self, mu, sigma)\n",
      "     |      Gaussian distribution.\n",
      "     |      \n",
      "     |      mu is the mean, and sigma is the standard deviation.  This is\n",
      "     |      slightly faster than the normalvariate() function.\n",
      "     |      \n",
      "     |      Not thread-safe without a lock around calls.\n",
      "     |  \n",
      "     |  lognormvariate(self, mu, sigma)\n",
      "     |      Log normal distribution.\n",
      "     |      \n",
      "     |      If you take the natural logarithm of this distribution, you'll get a\n",
      "     |      normal distribution with mean mu and standard deviation sigma.\n",
      "     |      mu can have any value, and sigma must be greater than zero.\n",
      "     |  \n",
      "     |  normalvariate(self, mu, sigma)\n",
      "     |      Normal distribution.\n",
      "     |      \n",
      "     |      mu is the mean, and sigma is the standard deviation.\n",
      "     |  \n",
      "     |  paretovariate(self, alpha)\n",
      "     |      Pareto distribution.  alpha is the shape parameter.\n",
      "     |  \n",
      "     |  randint(self, a, b)\n",
      "     |      Return random integer in range [a, b], including both end points.\n",
      "     |  \n",
      "     |  randrange(self, start, stop=None, step=1, _int=<class 'int'>)\n",
      "     |      Choose a random item from range(start, stop[, step]).\n",
      "     |      \n",
      "     |      This fixes the problem with randint() which includes the\n",
      "     |      endpoint; in Python this is usually not what you want.\n",
      "     |  \n",
      "     |  sample(self, population, k)\n",
      "     |      Chooses k unique random elements from a population sequence or set.\n",
      "     |      \n",
      "     |      Returns a new list containing elements from the population while\n",
      "     |      leaving the original population unchanged.  The resulting list is\n",
      "     |      in selection order so that all sub-slices will also be valid random\n",
      "     |      samples.  This allows raffle winners (the sample) to be partitioned\n",
      "     |      into grand prize and second place winners (the subslices).\n",
      "     |      \n",
      "     |      Members of the population need not be hashable or unique.  If the\n",
      "     |      population contains repeats, then each occurrence is a possible\n",
      "     |      selection in the sample.\n",
      "     |      \n",
      "     |      To choose a sample in a range of integers, use range as an argument.\n",
      "     |      This is especially fast and space efficient for sampling from a\n",
      "     |      large population:   sample(range(10000000), 60)\n",
      "     |  \n",
      "     |  shuffle(self, x, random=None)\n",
      "     |      Shuffle list x in place, and return None.\n",
      "     |      \n",
      "     |      Optional argument random is a 0-argument function returning a\n",
      "     |      random float in [0.0, 1.0); if it is the default None, the\n",
      "     |      standard random.random will be used.\n",
      "     |  \n",
      "     |  triangular(self, low=0.0, high=1.0, mode=None)\n",
      "     |      Triangular distribution.\n",
      "     |      \n",
      "     |      Continuous distribution bounded by given lower and upper limits,\n",
      "     |      and having a given mode value in-between.\n",
      "     |      \n",
      "     |      http://en.wikipedia.org/wiki/Triangular_distribution\n",
      "     |  \n",
      "     |  uniform(self, a, b)\n",
      "     |      Get a random number in the range [a, b) or [a, b] depending on rounding.\n",
      "     |  \n",
      "     |  vonmisesvariate(self, mu, kappa)\n",
      "     |      Circular data distribution.\n",
      "     |      \n",
      "     |      mu is the mean angle, expressed in radians between 0 and 2*pi, and\n",
      "     |      kappa is the concentration parameter, which must be greater than or\n",
      "     |      equal to zero.  If kappa is equal to zero, this distribution reduces\n",
      "     |      to a uniform random angle over the range 0 to 2*pi.\n",
      "     |  \n",
      "     |  weibullvariate(self, alpha, beta)\n",
      "     |      Weibull distribution.\n",
      "     |      \n",
      "     |      alpha is the scale parameter and beta is the shape parameter.\n",
      "     |  \n",
      "     |  ----------------------------------------------------------------------\n",
      "     |  Data descriptors inherited from Random:\n",
      "     |  \n",
      "     |  __dict__\n",
      "     |      dictionary for instance variables (if defined)\n",
      "     |  \n",
      "     |  __weakref__\n",
      "     |      list of weak references to the object (if defined)\n",
      "     |  \n",
      "     |  ----------------------------------------------------------------------\n",
      "     |  Data and other attributes inherited from Random:\n",
      "     |  \n",
      "     |  VERSION = 3\n",
      "     |  \n",
      "     |  ----------------------------------------------------------------------\n",
      "     |  Methods inherited from _random.Random:\n",
      "     |  \n",
      "     |  __getattribute__(self, name, /)\n",
      "     |      Return getattr(self, name).\n",
      "     |  \n",
      "     |  ----------------------------------------------------------------------\n",
      "     |  Static methods inherited from _random.Random:\n",
      "     |  \n",
      "     |  __new__(*args, **kwargs) from builtins.type\n",
      "     |      Create and return a new object.  See help(type) for accurate signature.\n",
      "\n",
      "FUNCTIONS\n",
      "    betavariate(alpha, beta) method of Random instance\n",
      "        Beta distribution.\n",
      "        \n",
      "        Conditions on the parameters are alpha > 0 and beta > 0.\n",
      "        Returned values range between 0 and 1.\n",
      "    \n",
      "    choice(seq) method of Random instance\n",
      "        Choose a random element from a non-empty sequence.\n",
      "    \n",
      "    choices(population, weights=None, *, cum_weights=None, k=1) method of Random instance\n",
      "        Return a k sized list of population elements chosen with replacement.\n",
      "        \n",
      "        If the relative weights or cumulative weights are not specified,\n",
      "        the selections are made with equal probability.\n",
      "    \n",
      "    expovariate(lambd) method of Random instance\n",
      "        Exponential distribution.\n",
      "        \n",
      "        lambd is 1.0 divided by the desired mean.  It should be\n",
      "        nonzero.  (The parameter would be called \"lambda\", but that is\n",
      "        a reserved word in Python.)  Returned values range from 0 to\n",
      "        positive infinity if lambd is positive, and from negative\n",
      "        infinity to 0 if lambd is negative.\n",
      "    \n",
      "    gammavariate(alpha, beta) method of Random instance\n",
      "        Gamma distribution.  Not the gamma function!\n",
      "        \n",
      "        Conditions on the parameters are alpha > 0 and beta > 0.\n",
      "        \n",
      "        The probability distribution function is:\n",
      "        \n",
      "                    x ** (alpha - 1) * math.exp(-x / beta)\n",
      "          pdf(x) =  --------------------------------------\n",
      "                      math.gamma(alpha) * beta ** alpha\n",
      "    \n",
      "    gauss(mu, sigma) method of Random instance\n",
      "        Gaussian distribution.\n",
      "        \n",
      "        mu is the mean, and sigma is the standard deviation.  This is\n",
      "        slightly faster than the normalvariate() function.\n",
      "        \n",
      "        Not thread-safe without a lock around calls.\n",
      "    \n",
      "    getrandbits(...) method of Random instance\n",
      "        getrandbits(k) -> x.  Generates an int with k random bits.\n",
      "    \n",
      "    getstate() method of Random instance\n",
      "        Return internal state; can be passed to setstate() later.\n",
      "    \n",
      "    lognormvariate(mu, sigma) method of Random instance\n",
      "        Log normal distribution.\n",
      "        \n",
      "        If you take the natural logarithm of this distribution, you'll get a\n",
      "        normal distribution with mean mu and standard deviation sigma.\n",
      "        mu can have any value, and sigma must be greater than zero.\n",
      "    \n",
      "    normalvariate(mu, sigma) method of Random instance\n",
      "        Normal distribution.\n",
      "        \n",
      "        mu is the mean, and sigma is the standard deviation.\n",
      "    \n",
      "    paretovariate(alpha) method of Random instance\n",
      "        Pareto distribution.  alpha is the shape parameter.\n",
      "    \n",
      "    randint(a, b) method of Random instance\n",
      "        Return random integer in range [a, b], including both end points.\n",
      "    \n",
      "    random(...) method of Random instance\n",
      "        random() -> x in the interval [0, 1).\n",
      "    \n",
      "    randrange(start, stop=None, step=1, _int=<class 'int'>) method of Random instance\n",
      "        Choose a random item from range(start, stop[, step]).\n",
      "        \n",
      "        This fixes the problem with randint() which includes the\n",
      "        endpoint; in Python this is usually not what you want.\n",
      "    \n",
      "    sample(population, k) method of Random instance\n",
      "        Chooses k unique random elements from a population sequence or set.\n",
      "        \n",
      "        Returns a new list containing elements from the population while\n",
      "        leaving the original population unchanged.  The resulting list is\n",
      "        in selection order so that all sub-slices will also be valid random\n",
      "        samples.  This allows raffle winners (the sample) to be partitioned\n",
      "        into grand prize and second place winners (the subslices).\n",
      "        \n",
      "        Members of the population need not be hashable or unique.  If the\n",
      "        population contains repeats, then each occurrence is a possible\n",
      "        selection in the sample.\n",
      "        \n",
      "        To choose a sample in a range of integers, use range as an argument.\n",
      "        This is especially fast and space efficient for sampling from a\n",
      "        large population:   sample(range(10000000), 60)\n",
      "    \n",
      "    seed(a=None, version=2) method of Random instance\n",
      "        Initialize internal state from hashable object.\n",
      "        \n",
      "        None or no argument seeds from current time or from an operating\n",
      "        system specific randomness source if available.\n",
      "        \n",
      "        If *a* is an int, all bits are used.\n",
      "        \n",
      "        For version 2 (the default), all of the bits are used if *a* is a str,\n",
      "        bytes, or bytearray.  For version 1 (provided for reproducing random\n",
      "        sequences from older versions of Python), the algorithm for str and\n",
      "        bytes generates a narrower range of seeds.\n",
      "    \n",
      "    setstate(state) method of Random instance\n",
      "        Restore internal state from object returned by getstate().\n",
      "    \n",
      "    shuffle(x, random=None) method of Random instance\n",
      "        Shuffle list x in place, and return None.\n",
      "        \n",
      "        Optional argument random is a 0-argument function returning a\n",
      "        random float in [0.0, 1.0); if it is the default None, the\n",
      "        standard random.random will be used.\n",
      "    \n",
      "    triangular(low=0.0, high=1.0, mode=None) method of Random instance\n",
      "        Triangular distribution.\n",
      "        \n",
      "        Continuous distribution bounded by given lower and upper limits,\n",
      "        and having a given mode value in-between.\n",
      "        \n",
      "        http://en.wikipedia.org/wiki/Triangular_distribution\n",
      "    \n",
      "    uniform(a, b) method of Random instance\n",
      "        Get a random number in the range [a, b) or [a, b] depending on rounding.\n",
      "    \n",
      "    vonmisesvariate(mu, kappa) method of Random instance\n",
      "        Circular data distribution.\n",
      "        \n",
      "        mu is the mean angle, expressed in radians between 0 and 2*pi, and\n",
      "        kappa is the concentration parameter, which must be greater than or\n",
      "        equal to zero.  If kappa is equal to zero, this distribution reduces\n",
      "        to a uniform random angle over the range 0 to 2*pi.\n",
      "    \n",
      "    weibullvariate(alpha, beta) method of Random instance\n",
      "        Weibull distribution.\n",
      "        \n",
      "        alpha is the scale parameter and beta is the shape parameter.\n",
      "\n",
      "DATA\n",
      "    __all__ = ['Random', 'seed', 'random', 'uniform', 'randint', 'choice',...\n",
      "\n",
      "FILE\n",
      "    c:\\users\\kamae\\anaconda3\\lib\\random.py\n",
      "\n",
      "\n"
     ]
    }
   ],
   "source": [
    "help(random)"
   ]
  },
  {
   "cell_type": "markdown",
   "metadata": {},
   "source": [
    "# 1. Loading Dataset "
   ]
  },
  {
   "cell_type": "code",
   "execution_count": 2,
   "metadata": {},
   "outputs": [],
   "source": [
    "# Importing the  Kick Started train and test files into a Pandas DataFrame.\n",
    "# Loading the training data with the delimiter ',' and test data with delimiter ';'\n",
    " \n",
    "df_train = pd.read_csv('KS_train_data.csv', delimiter = ',')\n",
    "df_test=pd.read_csv('KS_test_data.csv',delimiter=';')\n"
   ]
  },
  {
   "cell_type": "code",
   "execution_count": 4,
   "metadata": {
    "scrolled": false
   },
   "outputs": [
    {
     "name": "stdout",
     "output_type": "stream",
     "text": [
      "Index(['project_id', 'backers_count', 'blurb', 'category',\n",
      "       'converted_pledged_amount', 'country', 'created_at', 'currency',\n",
      "       'deadline', 'fx_rate', 'goal', 'launched_at', 'name', 'pledged',\n",
      "       'staff_pick', 'usd_pledged', 'location', 'funded', 'subcategory',\n",
      "       'project_url', 'reward_url'],\n",
      "      dtype='object')\n",
      "Index(['project_id', 'blurb', 'category', 'country', 'created_at', 'currency',\n",
      "       'deadline', 'fx_rate', 'goal', 'launched_at', 'name', 'staff_pick',\n",
      "       'location', 'subcategory', 'project_url', 'reward_url'],\n",
      "      dtype='object')\n",
      "(100000, 21)\n",
      "(78065, 16)\n"
     ]
    }
   ],
   "source": [
    "# To peek in to the column names of the data\n",
    "print(df_train.columns)\n",
    "\n",
    "print(df_test.columns)\n",
    "\n",
    "\n",
    "print(df_train.shape)\n",
    "print(df_test.shape)\n"
   ]
  },
  {
   "cell_type": "markdown",
   "metadata": {},
   "source": [
    "### We observe that in the above data, the features of the training and test are different. That is, a few features in the training data are missing in the test data. It means that, if we train a model using the features that are not in the test data, then we can not use the test data for prediction. Thus, in our analysis, we use those features that are common to both the test and training data.  For illustrating the importance of the a features, however,  explain in section 6, how the performance of the model using only the features in the training data sets."
   ]
  },
  {
   "cell_type": "code",
   "execution_count": 279,
   "metadata": {
    "scrolled": true
   },
   "outputs": [
    {
     "data": {
      "text/html": [
       "<div>\n",
       "<style scoped>\n",
       "    .dataframe tbody tr th:only-of-type {\n",
       "        vertical-align: middle;\n",
       "    }\n",
       "\n",
       "    .dataframe tbody tr th {\n",
       "        vertical-align: top;\n",
       "    }\n",
       "\n",
       "    .dataframe thead th {\n",
       "        text-align: right;\n",
       "    }\n",
       "</style>\n",
       "<table border=\"1\" class=\"dataframe\">\n",
       "  <thead>\n",
       "    <tr style=\"text-align: right;\">\n",
       "      <th></th>\n",
       "      <th>project_id</th>\n",
       "      <th>backers_count</th>\n",
       "      <th>blurb</th>\n",
       "      <th>category</th>\n",
       "      <th>converted_pledged_amount</th>\n",
       "      <th>country</th>\n",
       "      <th>created_at</th>\n",
       "      <th>currency</th>\n",
       "      <th>deadline</th>\n",
       "      <th>fx_rate</th>\n",
       "      <th>...</th>\n",
       "      <th>launched_at</th>\n",
       "      <th>name</th>\n",
       "      <th>pledged</th>\n",
       "      <th>staff_pick</th>\n",
       "      <th>usd_pledged</th>\n",
       "      <th>location</th>\n",
       "      <th>funded</th>\n",
       "      <th>subcategory</th>\n",
       "      <th>project_url</th>\n",
       "      <th>reward_url</th>\n",
       "    </tr>\n",
       "  </thead>\n",
       "  <tbody>\n",
       "    <tr>\n",
       "      <th>0</th>\n",
       "      <td>KS_000000</td>\n",
       "      <td>80</td>\n",
       "      <td>I will be an artist-in-residence at Elsewhere ...</td>\n",
       "      <td>art</td>\n",
       "      <td>3596</td>\n",
       "      <td>US</td>\n",
       "      <td>1325980505</td>\n",
       "      <td>USD</td>\n",
       "      <td>1334866560</td>\n",
       "      <td>1.0</td>\n",
       "      <td>...</td>\n",
       "      <td>1332969260</td>\n",
       "      <td>Elsewhere Studios artist-in-residency program!</td>\n",
       "      <td>3596.0</td>\n",
       "      <td>False</td>\n",
       "      <td>3596.0</td>\n",
       "      <td>Paonia, CO</td>\n",
       "      <td>True</td>\n",
       "      <td>mixed media</td>\n",
       "      <td>https://www.kickstarter.com/projects/hilaryeme...</td>\n",
       "      <td>https://www.kickstarter.com/projects/hilaryeme...</td>\n",
       "    </tr>\n",
       "    <tr>\n",
       "      <th>1</th>\n",
       "      <td>KS_000001</td>\n",
       "      <td>82</td>\n",
       "      <td>1000 Artists is a public art-making installati...</td>\n",
       "      <td>art</td>\n",
       "      <td>4586</td>\n",
       "      <td>US</td>\n",
       "      <td>1330926084</td>\n",
       "      <td>USD</td>\n",
       "      <td>1336440145</td>\n",
       "      <td>1.0</td>\n",
       "      <td>...</td>\n",
       "      <td>1332984145</td>\n",
       "      <td>1000 Artists: Presidential Inauguration 2013</td>\n",
       "      <td>4586.0</td>\n",
       "      <td>False</td>\n",
       "      <td>4586.0</td>\n",
       "      <td>Washington, DC</td>\n",
       "      <td>True</td>\n",
       "      <td>public art</td>\n",
       "      <td>https://www.kickstarter.com/projects/17146650/...</td>\n",
       "      <td>https://www.kickstarter.com/projects/17146650/...</td>\n",
       "    </tr>\n",
       "    <tr>\n",
       "      <th>2</th>\n",
       "      <td>KS_000002</td>\n",
       "      <td>21</td>\n",
       "      <td>The Sequel to ‘My Favorite Machine”, \"MyPhoneH...</td>\n",
       "      <td>art</td>\n",
       "      <td>5217</td>\n",
       "      <td>US</td>\n",
       "      <td>1332382894</td>\n",
       "      <td>USD</td>\n",
       "      <td>1338175739</td>\n",
       "      <td>1.0</td>\n",
       "      <td>...</td>\n",
       "      <td>1332991739</td>\n",
       "      <td>MyPhoneHenge</td>\n",
       "      <td>5217.0</td>\n",
       "      <td>False</td>\n",
       "      <td>5217.0</td>\n",
       "      <td>Frisco, TX</td>\n",
       "      <td>True</td>\n",
       "      <td>sculpture</td>\n",
       "      <td>https://www.kickstarter.com/projects/belveal/m...</td>\n",
       "      <td>https://www.kickstarter.com/projects/belveal/m...</td>\n",
       "    </tr>\n",
       "  </tbody>\n",
       "</table>\n",
       "<p>3 rows × 21 columns</p>\n",
       "</div>"
      ],
      "text/plain": [
       "  project_id  backers_count  \\\n",
       "0  KS_000000             80   \n",
       "1  KS_000001             82   \n",
       "2  KS_000002             21   \n",
       "\n",
       "                                               blurb category  \\\n",
       "0  I will be an artist-in-residence at Elsewhere ...      art   \n",
       "1  1000 Artists is a public art-making installati...      art   \n",
       "2  The Sequel to ‘My Favorite Machine”, \"MyPhoneH...      art   \n",
       "\n",
       "   converted_pledged_amount country  created_at currency    deadline  fx_rate  \\\n",
       "0                      3596      US  1325980505      USD  1334866560      1.0   \n",
       "1                      4586      US  1330926084      USD  1336440145      1.0   \n",
       "2                      5217      US  1332382894      USD  1338175739      1.0   \n",
       "\n",
       "   ...  launched_at                                            name pledged  \\\n",
       "0  ...   1332969260  Elsewhere Studios artist-in-residency program!  3596.0   \n",
       "1  ...   1332984145    1000 Artists: Presidential Inauguration 2013  4586.0   \n",
       "2  ...   1332991739                                    MyPhoneHenge  5217.0   \n",
       "\n",
       "   staff_pick  usd_pledged        location funded  subcategory  \\\n",
       "0       False       3596.0      Paonia, CO   True  mixed media   \n",
       "1       False       4586.0  Washington, DC   True   public art   \n",
       "2       False       5217.0      Frisco, TX   True    sculpture   \n",
       "\n",
       "                                         project_url  \\\n",
       "0  https://www.kickstarter.com/projects/hilaryeme...   \n",
       "1  https://www.kickstarter.com/projects/17146650/...   \n",
       "2  https://www.kickstarter.com/projects/belveal/m...   \n",
       "\n",
       "                                          reward_url  \n",
       "0  https://www.kickstarter.com/projects/hilaryeme...  \n",
       "1  https://www.kickstarter.com/projects/17146650/...  \n",
       "2  https://www.kickstarter.com/projects/belveal/m...  \n",
       "\n",
       "[3 rows x 21 columns]"
      ]
     },
     "execution_count": 279,
     "metadata": {},
     "output_type": "execute_result"
    }
   ],
   "source": [
    "df_train.head(3)\n"
   ]
  },
  {
   "cell_type": "code",
   "execution_count": 5,
   "metadata": {},
   "outputs": [
    {
     "data": {
      "text/plain": [
       "project_id                   object\n",
       "backers_count                 int64\n",
       "blurb                        object\n",
       "category                     object\n",
       "converted_pledged_amount      int64\n",
       "country                      object\n",
       "created_at                    int64\n",
       "currency                     object\n",
       "deadline                      int64\n",
       "fx_rate                     float64\n",
       "goal                        float64\n",
       "launched_at                   int64\n",
       "name                         object\n",
       "pledged                     float64\n",
       "staff_pick                     bool\n",
       "usd_pledged                 float64\n",
       "location                     object\n",
       "funded                         bool\n",
       "subcategory                  object\n",
       "project_url                  object\n",
       "reward_url                   object\n",
       "dtype: object"
      ]
     },
     "execution_count": 5,
     "metadata": {},
     "output_type": "execute_result"
    }
   ],
   "source": [
    "df_train.dtypes"
   ]
  },
  {
   "cell_type": "code",
   "execution_count": 280,
   "metadata": {
    "scrolled": true
   },
   "outputs": [
    {
     "data": {
      "text/html": [
       "<div>\n",
       "<style scoped>\n",
       "    .dataframe tbody tr th:only-of-type {\n",
       "        vertical-align: middle;\n",
       "    }\n",
       "\n",
       "    .dataframe tbody tr th {\n",
       "        vertical-align: top;\n",
       "    }\n",
       "\n",
       "    .dataframe thead th {\n",
       "        text-align: right;\n",
       "    }\n",
       "</style>\n",
       "<table border=\"1\" class=\"dataframe\">\n",
       "  <thead>\n",
       "    <tr style=\"text-align: right;\">\n",
       "      <th></th>\n",
       "      <th>project_id</th>\n",
       "      <th>blurb</th>\n",
       "      <th>category</th>\n",
       "      <th>country</th>\n",
       "      <th>created_at</th>\n",
       "      <th>currency</th>\n",
       "      <th>deadline</th>\n",
       "      <th>fx_rate</th>\n",
       "      <th>goal</th>\n",
       "      <th>launched_at</th>\n",
       "      <th>name</th>\n",
       "      <th>staff_pick</th>\n",
       "      <th>location</th>\n",
       "      <th>subcategory</th>\n",
       "      <th>project_url</th>\n",
       "      <th>reward_url</th>\n",
       "    </tr>\n",
       "  </thead>\n",
       "  <tbody>\n",
       "    <tr>\n",
       "      <th>0</th>\n",
       "      <td>KS_100000</td>\n",
       "      <td>We are looking to bring a Visiting Sculptor fr...</td>\n",
       "      <td>art</td>\n",
       "      <td>US</td>\n",
       "      <td>1330727362</td>\n",
       "      <td>USD</td>\n",
       "      <td>1334959598</td>\n",
       "      <td>1.0</td>\n",
       "      <td>3900.0</td>\n",
       "      <td>1332972398</td>\n",
       "      <td>Martin Luther King Jr. Sculpture on Campus!</td>\n",
       "      <td>False</td>\n",
       "      <td>Bakersfield, CA</td>\n",
       "      <td>art</td>\n",
       "      <td>https://www.kickstarter.com/projects/153685020...</td>\n",
       "      <td>https://www.kickstarter.com/projects/153685020...</td>\n",
       "    </tr>\n",
       "    <tr>\n",
       "      <th>1</th>\n",
       "      <td>KS_100001</td>\n",
       "      <td>Surrealistic oil paintings capturing the metam...</td>\n",
       "      <td>art</td>\n",
       "      <td>US</td>\n",
       "      <td>1332598567</td>\n",
       "      <td>USD</td>\n",
       "      <td>1334635140</td>\n",
       "      <td>1.0</td>\n",
       "      <td>750.0</td>\n",
       "      <td>1332975679</td>\n",
       "      <td>EMERGENCE: Surreal Oil Paintings by J.J. Long</td>\n",
       "      <td>False</td>\n",
       "      <td>Lowell, MA</td>\n",
       "      <td>painting</td>\n",
       "      <td>https://www.kickstarter.com/projects/203971390...</td>\n",
       "      <td>https://www.kickstarter.com/projects/203971390...</td>\n",
       "    </tr>\n",
       "    <tr>\n",
       "      <th>2</th>\n",
       "      <td>KS_100002</td>\n",
       "      <td>P.M.A.F.T.W. my upcoming solo show June 2012 a...</td>\n",
       "      <td>art</td>\n",
       "      <td>US</td>\n",
       "      <td>1332476607</td>\n",
       "      <td>USD</td>\n",
       "      <td>1333421843</td>\n",
       "      <td>1.0</td>\n",
       "      <td>1000.0</td>\n",
       "      <td>1332989843</td>\n",
       "      <td>P.M.A.F.T.W.</td>\n",
       "      <td>False</td>\n",
       "      <td>Portland, OR</td>\n",
       "      <td>painting</td>\n",
       "      <td>https://www.kickstarter.com/projects/144231475...</td>\n",
       "      <td>https://www.kickstarter.com/projects/144231475...</td>\n",
       "    </tr>\n",
       "  </tbody>\n",
       "</table>\n",
       "</div>"
      ],
      "text/plain": [
       "  project_id                                              blurb category  \\\n",
       "0  KS_100000  We are looking to bring a Visiting Sculptor fr...      art   \n",
       "1  KS_100001  Surrealistic oil paintings capturing the metam...      art   \n",
       "2  KS_100002  P.M.A.F.T.W. my upcoming solo show June 2012 a...      art   \n",
       "\n",
       "  country  created_at currency    deadline  fx_rate    goal  launched_at  \\\n",
       "0      US  1330727362      USD  1334959598      1.0  3900.0   1332972398   \n",
       "1      US  1332598567      USD  1334635140      1.0   750.0   1332975679   \n",
       "2      US  1332476607      USD  1333421843      1.0  1000.0   1332989843   \n",
       "\n",
       "                                            name  staff_pick         location  \\\n",
       "0    Martin Luther King Jr. Sculpture on Campus!       False  Bakersfield, CA   \n",
       "1  EMERGENCE: Surreal Oil Paintings by J.J. Long       False       Lowell, MA   \n",
       "2                                   P.M.A.F.T.W.       False     Portland, OR   \n",
       "\n",
       "  subcategory                                        project_url  \\\n",
       "0         art  https://www.kickstarter.com/projects/153685020...   \n",
       "1    painting  https://www.kickstarter.com/projects/203971390...   \n",
       "2    painting  https://www.kickstarter.com/projects/144231475...   \n",
       "\n",
       "                                          reward_url  \n",
       "0  https://www.kickstarter.com/projects/153685020...  \n",
       "1  https://www.kickstarter.com/projects/203971390...  \n",
       "2  https://www.kickstarter.com/projects/144231475...  "
      ]
     },
     "execution_count": 280,
     "metadata": {},
     "output_type": "execute_result"
    }
   ],
   "source": [
    " df_test.head(3)"
   ]
  },
  {
   "cell_type": "code",
   "execution_count": 281,
   "metadata": {},
   "outputs": [
    {
     "data": {
      "text/plain": [
       "0        True\n",
       "1        True\n",
       "2        True\n",
       "3        True\n",
       "4        True\n",
       "         ... \n",
       "99995    True\n",
       "99996    True\n",
       "99997    True\n",
       "99998    True\n",
       "99999    True\n",
       "Name: funded, Length: 100000, dtype: bool"
      ]
     },
     "execution_count": 281,
     "metadata": {},
     "output_type": "execute_result"
    }
   ],
   "source": [
    "# Looking at the target variable in the training data\n",
    "df_train['funded'].head()\n",
    "df_train['funded']"
   ]
  },
  {
   "cell_type": "code",
   "execution_count": 282,
   "metadata": {},
   "outputs": [
    {
     "name": "stdout",
     "output_type": "stream",
     "text": [
      "<class 'pandas.core.frame.DataFrame'>\n",
      "RangeIndex: 100000 entries, 0 to 99999\n",
      "Data columns (total 21 columns):\n",
      " #   Column                    Non-Null Count   Dtype  \n",
      "---  ------                    --------------   -----  \n",
      " 0   project_id                100000 non-null  object \n",
      " 1   backers_count             100000 non-null  int64  \n",
      " 2   blurb                     99998 non-null   object \n",
      " 3   category                  100000 non-null  object \n",
      " 4   converted_pledged_amount  100000 non-null  int64  \n",
      " 5   country                   99997 non-null   object \n",
      " 6   created_at                100000 non-null  int64  \n",
      " 7   currency                  100000 non-null  object \n",
      " 8   deadline                  100000 non-null  int64  \n",
      " 9   fx_rate                   100000 non-null  float64\n",
      " 10  goal                      100000 non-null  float64\n",
      " 11  launched_at               100000 non-null  int64  \n",
      " 12  name                      99999 non-null   object \n",
      " 13  pledged                   100000 non-null  float64\n",
      " 14  staff_pick                100000 non-null  bool   \n",
      " 15  usd_pledged               100000 non-null  float64\n",
      " 16  location                  100000 non-null  object \n",
      " 17  funded                    100000 non-null  bool   \n",
      " 18  subcategory               100000 non-null  object \n",
      " 19  project_url               100000 non-null  object \n",
      " 20  reward_url                100000 non-null  object \n",
      "dtypes: bool(2), float64(4), int64(5), object(10)\n",
      "memory usage: 14.7+ MB\n"
     ]
    }
   ],
   "source": [
    "df_train.info()"
   ]
  },
  {
   "cell_type": "code",
   "execution_count": 7,
   "metadata": {},
   "outputs": [
    {
     "data": {
      "text/plain": [
       "project_id                  0\n",
       "backers_count               0\n",
       "blurb                       2\n",
       "category                    0\n",
       "converted_pledged_amount    0\n",
       "country                     3\n",
       "created_at                  0\n",
       "currency                    0\n",
       "deadline                    0\n",
       "fx_rate                     0\n",
       "goal                        0\n",
       "launched_at                 0\n",
       "name                        1\n",
       "pledged                     0\n",
       "staff_pick                  0\n",
       "usd_pledged                 0\n",
       "location                    0\n",
       "funded                      0\n",
       "subcategory                 0\n",
       "project_url                 0\n",
       "reward_url                  0\n",
       "dtype: int64"
      ]
     },
     "execution_count": 7,
     "metadata": {},
     "output_type": "execute_result"
    }
   ],
   "source": [
    "# First check the missing values\n",
    "df_train.isna().sum()"
   ]
  },
  {
   "cell_type": "code",
   "execution_count": null,
   "metadata": {},
   "outputs": [],
   "source": [
    "# Remove the missing values\n"
   ]
  },
  {
   "cell_type": "markdown",
   "metadata": {},
   "source": [
    "# 2. Data cleaning and Derivation of (three) new features\n",
    "\n",
    "We performed the following steps to clean up the data for prediction \n",
    "\n",
    "1. **Date-time transformation**\n",
    "   -As we notice in the previous cell that poject lauched dates and deadlines are in integer format. For better understanding of data and for inference, these variables have to be converted into date format.\n",
    "2. **New feature variable creation** We derived three new features, namely, \n",
    "   * **ProjectLength**: Specifies the Character length of the project title\n",
    "   *  **Hourlaunched** : Project launching time \n",
    "   *  **ProjectDuration**: Difference between project deadline and project launching date in weeks"
   ]
  },
  {
   "cell_type": "code",
   "execution_count": 10,
   "metadata": {},
   "outputs": [
    {
     "name": "stdout",
     "output_type": "stream",
     "text": [
      "Help on function to_datetime in module pandas.core.tools.datetimes:\n",
      "\n",
      "to_datetime(arg, errors='raise', dayfirst=False, yearfirst=False, utc=None, format=None, exact=True, unit=None, infer_datetime_format=False, origin='unix', cache=True)\n",
      "    Convert argument to datetime.\n",
      "    \n",
      "    Parameters\n",
      "    ----------\n",
      "    arg : int, float, str, datetime, list, tuple, 1-d array, Series DataFrame/dict-like\n",
      "        The object to convert to a datetime.\n",
      "    errors : {'ignore', 'raise', 'coerce'}, default 'raise'\n",
      "        - If 'raise', then invalid parsing will raise an exception.\n",
      "        - If 'coerce', then invalid parsing will be set as NaT.\n",
      "        - If 'ignore', then invalid parsing will return the input.\n",
      "    dayfirst : bool, default False\n",
      "        Specify a date parse order if `arg` is str or its list-likes.\n",
      "        If True, parses dates with the day first, eg 10/11/12 is parsed as\n",
      "        2012-11-10.\n",
      "        Warning: dayfirst=True is not strict, but will prefer to parse\n",
      "        with day first (this is a known bug, based on dateutil behavior).\n",
      "    yearfirst : bool, default False\n",
      "        Specify a date parse order if `arg` is str or its list-likes.\n",
      "    \n",
      "        - If True parses dates with the year first, eg 10/11/12 is parsed as\n",
      "          2010-11-12.\n",
      "        - If both dayfirst and yearfirst are True, yearfirst is preceded (same\n",
      "          as dateutil).\n",
      "    \n",
      "        Warning: yearfirst=True is not strict, but will prefer to parse\n",
      "        with year first (this is a known bug, based on dateutil behavior).\n",
      "    utc : bool, default None\n",
      "        Return UTC DatetimeIndex if True (converting any tz-aware\n",
      "        datetime.datetime objects as well).\n",
      "    format : str, default None\n",
      "        The strftime to parse time, eg \"%d/%m/%Y\", note that \"%f\" will parse\n",
      "        all the way up to nanoseconds.\n",
      "        See strftime documentation for more information on choices:\n",
      "        https://docs.python.org/3/library/datetime.html#strftime-and-strptime-behavior.\n",
      "    exact : bool, True by default\n",
      "        Behaves as:\n",
      "        - If True, require an exact format match.\n",
      "        - If False, allow the format to match anywhere in the target string.\n",
      "    \n",
      "    unit : str, default 'ns'\n",
      "        The unit of the arg (D,s,ms,us,ns) denote the unit, which is an\n",
      "        integer or float number. This will be based off the origin.\n",
      "        Example, with unit='ms' and origin='unix' (the default), this\n",
      "        would calculate the number of milliseconds to the unix epoch start.\n",
      "    infer_datetime_format : bool, default False\n",
      "        If True and no `format` is given, attempt to infer the format of the\n",
      "        datetime strings, and if it can be inferred, switch to a faster\n",
      "        method of parsing them. In some cases this can increase the parsing\n",
      "        speed by ~5-10x.\n",
      "    origin : scalar, default 'unix'\n",
      "        Define the reference date. The numeric values would be parsed as number\n",
      "        of units (defined by `unit`) since this reference date.\n",
      "    \n",
      "        - If 'unix' (or POSIX) time; origin is set to 1970-01-01.\n",
      "        - If 'julian', unit must be 'D', and origin is set to beginning of\n",
      "          Julian Calendar. Julian day number 0 is assigned to the day starting\n",
      "          at noon on January 1, 4713 BC.\n",
      "        - If Timestamp convertible, origin is set to Timestamp identified by\n",
      "          origin.\n",
      "    cache : bool, default True\n",
      "        If True, use a cache of unique, converted dates to apply the datetime\n",
      "        conversion. May produce significant speed-up when parsing duplicate\n",
      "        date strings, especially ones with timezone offsets. The cache is only\n",
      "        used when there are at least 50 values. The presence of out-of-bounds\n",
      "        values will render the cache unusable and may slow down parsing.\n",
      "    \n",
      "        .. versionadded:: 0.23.0\n",
      "    \n",
      "        .. versionchanged:: 0.25.0\n",
      "            - changed default value from False to True.\n",
      "    \n",
      "    Returns\n",
      "    -------\n",
      "    datetime\n",
      "        If parsing succeeded.\n",
      "        Return type depends on input:\n",
      "    \n",
      "        - list-like: DatetimeIndex\n",
      "        - Series: Series of datetime64 dtype\n",
      "        - scalar: Timestamp\n",
      "    \n",
      "        In case when it is not possible to return designated types (e.g. when\n",
      "        any element of input is before Timestamp.min or after Timestamp.max)\n",
      "        return will have datetime.datetime type (or corresponding\n",
      "        array/Series).\n",
      "    \n",
      "    See Also\n",
      "    --------\n",
      "    DataFrame.astype : Cast argument to a specified dtype.\n",
      "    to_timedelta : Convert argument to timedelta.\n",
      "    convert_dtypes : Convert dtypes.\n",
      "    \n",
      "    Examples\n",
      "    --------\n",
      "    Assembling a datetime from multiple columns of a DataFrame. The keys can be\n",
      "    common abbreviations like ['year', 'month', 'day', 'minute', 'second',\n",
      "    'ms', 'us', 'ns']) or plurals of the same\n",
      "    \n",
      "    >>> df = pd.DataFrame({'year': [2015, 2016],\n",
      "    ...                    'month': [2, 3],\n",
      "    ...                    'day': [4, 5]})\n",
      "    >>> pd.to_datetime(df)\n",
      "    0   2015-02-04\n",
      "    1   2016-03-05\n",
      "    dtype: datetime64[ns]\n",
      "    \n",
      "    If a date does not meet the `timestamp limitations\n",
      "    <https://pandas.pydata.org/pandas-docs/stable/user_guide/timeseries.html\n",
      "    #timeseries-timestamp-limits>`_, passing errors='ignore'\n",
      "    will return the original input instead of raising any exception.\n",
      "    \n",
      "    Passing errors='coerce' will force an out-of-bounds date to NaT,\n",
      "    in addition to forcing non-dates (or non-parseable dates) to NaT.\n",
      "    \n",
      "    >>> pd.to_datetime('13000101', format='%Y%m%d', errors='ignore')\n",
      "    datetime.datetime(1300, 1, 1, 0, 0)\n",
      "    >>> pd.to_datetime('13000101', format='%Y%m%d', errors='coerce')\n",
      "    NaT\n",
      "    \n",
      "    Passing infer_datetime_format=True can often-times speedup a parsing\n",
      "    if its not an ISO8601 format exactly, but in a regular format.\n",
      "    \n",
      "    >>> s = pd.Series(['3/11/2000', '3/12/2000', '3/13/2000'] * 1000)\n",
      "    >>> s.head()\n",
      "    0    3/11/2000\n",
      "    1    3/12/2000\n",
      "    2    3/13/2000\n",
      "    3    3/11/2000\n",
      "    4    3/12/2000\n",
      "    dtype: object\n",
      "    \n",
      "    >>> %timeit pd.to_datetime(s, infer_datetime_format=True)  # doctest: +SKIP\n",
      "    100 loops, best of 3: 10.4 ms per loop\n",
      "    \n",
      "    >>> %timeit pd.to_datetime(s, infer_datetime_format=False)  # doctest: +SKIP\n",
      "    1 loop, best of 3: 471 ms per loop\n",
      "    \n",
      "    Using a unix epoch time\n",
      "    \n",
      "    >>> pd.to_datetime(1490195805, unit='s')\n",
      "    Timestamp('2017-03-22 15:16:45')\n",
      "    >>> pd.to_datetime(1490195805433502912, unit='ns')\n",
      "    Timestamp('2017-03-22 15:16:45.433502912')\n",
      "    \n",
      "    .. warning:: For float arg, precision rounding might happen. To prevent\n",
      "        unexpected behavior use a fixed-width exact type.\n",
      "    \n",
      "    Using a non-unix epoch origin\n",
      "    \n",
      "    >>> pd.to_datetime([1, 2, 3], unit='D',\n",
      "    ...                origin=pd.Timestamp('1960-01-01'))\n",
      "    DatetimeIndex(['1960-01-02', '1960-01-03', '1960-01-04'], dtype='datetime64[ns]', freq=None)\n",
      "\n"
     ]
    }
   ],
   "source": [
    "help(pd.to_datetime)"
   ]
  },
  {
   "cell_type": "code",
   "execution_count": 40,
   "metadata": {},
   "outputs": [
    {
     "data": {
      "text/plain": [
       "0       2012-03-28 21:14:20\n",
       "1       2012-03-29 01:22:25\n",
       "2       2012-03-29 03:28:59\n",
       "3       2012-03-29 03:28:16\n",
       "4       2012-03-29 03:37:20\n",
       "                ...        \n",
       "99995   2012-11-26 20:04:12\n",
       "99996   2013-04-04 13:26:49\n",
       "99997   2013-06-07 01:29:20\n",
       "99998   2013-07-11 18:50:44\n",
       "99999   2014-05-02 12:13:33\n",
       "Name: launched_at, Length: 100000, dtype: datetime64[ns]"
      ]
     },
     "execution_count": 40,
     "metadata": {},
     "output_type": "execute_result"
    }
   ],
   "source": [
    "# Reference date 1970-01-01 <-- origin of the date\n",
    "pd.to_datetime(df_train['launched_at'],unit='s')"
   ]
  },
  {
   "cell_type": "code",
   "execution_count": 38,
   "metadata": {},
   "outputs": [
    {
     "data": {
      "text/plain": [
       "DatetimeIndex(['1960-01-02', '1960-01-03', '1960-01-04'], dtype='datetime64[ns]', freq=None)"
      ]
     },
     "execution_count": 38,
     "metadata": {},
     "output_type": "execute_result"
    }
   ],
   "source": [
    "pd.to_datetime([1, 2, 3], unit='D', origin=pd.Timestamp('1960-01-01'))\n"
   ]
  },
  {
   "cell_type": "code",
   "execution_count": null,
   "metadata": {},
   "outputs": [],
   "source": [
    "(df_test['DeadlineDate'] -df_test['LaunchedDate']).astype('timedelta64[D]')"
   ]
  },
  {
   "cell_type": "code",
   "execution_count": 15,
   "metadata": {},
   "outputs": [],
   "source": [
    "# Tranforming the date fields in the training and test data \n",
    "\n",
    "df_train['LaunchedDate']=pd.to_datetime(df_train['launched_at'],unit='s')\n",
    "#df_train['LaunchedDate'] \n",
    "df_test['LaunchedDate']=pd.to_datetime(df_test['launched_at'],unit='s')\n",
    "\n",
    "df_train['DeadlineDate']=pd.to_datetime(df_train['deadline'],unit='s')\n",
    "df_test['DeadlineDate']=pd.to_datetime(df_test['deadline'],unit='s') \n",
    "#pd.to_datetime(1330727362,unit='s') # This is the key"
   ]
  },
  {
   "cell_type": "code",
   "execution_count": 17,
   "metadata": {},
   "outputs": [
    {
     "data": {
      "text/plain": [
       "project_id                          object\n",
       "backers_count                        int64\n",
       "blurb                               object\n",
       "category                            object\n",
       "converted_pledged_amount             int64\n",
       "country                             object\n",
       "created_at                           int64\n",
       "currency                            object\n",
       "deadline                             int64\n",
       "fx_rate                            float64\n",
       "goal                               float64\n",
       "launched_at                          int64\n",
       "name                                object\n",
       "pledged                            float64\n",
       "staff_pick                            bool\n",
       "usd_pledged                        float64\n",
       "location                            object\n",
       "funded                                bool\n",
       "subcategory                         object\n",
       "project_url                         object\n",
       "reward_url                          object\n",
       "LaunchedDate                datetime64[ns]\n",
       "DeadlineDate                datetime64[ns]\n",
       "dtype: object"
      ]
     },
     "execution_count": 17,
     "metadata": {},
     "output_type": "execute_result"
    }
   ],
   "source": [
    "df_train.dtypes"
   ]
  },
  {
   "cell_type": "code",
   "execution_count": 16,
   "metadata": {},
   "outputs": [
    {
     "data": {
      "text/html": [
       "<div>\n",
       "<style scoped>\n",
       "    .dataframe tbody tr th:only-of-type {\n",
       "        vertical-align: middle;\n",
       "    }\n",
       "\n",
       "    .dataframe tbody tr th {\n",
       "        vertical-align: top;\n",
       "    }\n",
       "\n",
       "    .dataframe thead th {\n",
       "        text-align: right;\n",
       "    }\n",
       "</style>\n",
       "<table border=\"1\" class=\"dataframe\">\n",
       "  <thead>\n",
       "    <tr style=\"text-align: right;\">\n",
       "      <th></th>\n",
       "      <th>project_id</th>\n",
       "      <th>backers_count</th>\n",
       "      <th>blurb</th>\n",
       "      <th>category</th>\n",
       "      <th>converted_pledged_amount</th>\n",
       "      <th>country</th>\n",
       "      <th>created_at</th>\n",
       "      <th>currency</th>\n",
       "      <th>deadline</th>\n",
       "      <th>fx_rate</th>\n",
       "      <th>...</th>\n",
       "      <th>pledged</th>\n",
       "      <th>staff_pick</th>\n",
       "      <th>usd_pledged</th>\n",
       "      <th>location</th>\n",
       "      <th>funded</th>\n",
       "      <th>subcategory</th>\n",
       "      <th>project_url</th>\n",
       "      <th>reward_url</th>\n",
       "      <th>LaunchedDate</th>\n",
       "      <th>DeadlineDate</th>\n",
       "    </tr>\n",
       "  </thead>\n",
       "  <tbody>\n",
       "    <tr>\n",
       "      <th>0</th>\n",
       "      <td>KS_000000</td>\n",
       "      <td>80</td>\n",
       "      <td>I will be an artist-in-residence at Elsewhere ...</td>\n",
       "      <td>art</td>\n",
       "      <td>3596</td>\n",
       "      <td>US</td>\n",
       "      <td>1325980505</td>\n",
       "      <td>USD</td>\n",
       "      <td>1334866560</td>\n",
       "      <td>1.0</td>\n",
       "      <td>...</td>\n",
       "      <td>3596.0</td>\n",
       "      <td>False</td>\n",
       "      <td>3596.0</td>\n",
       "      <td>Paonia, CO</td>\n",
       "      <td>True</td>\n",
       "      <td>mixed media</td>\n",
       "      <td>https://www.kickstarter.com/projects/hilaryeme...</td>\n",
       "      <td>https://www.kickstarter.com/projects/hilaryeme...</td>\n",
       "      <td>2012-03-28 21:14:20</td>\n",
       "      <td>2012-04-19 20:16:00</td>\n",
       "    </tr>\n",
       "    <tr>\n",
       "      <th>1</th>\n",
       "      <td>KS_000001</td>\n",
       "      <td>82</td>\n",
       "      <td>1000 Artists is a public art-making installati...</td>\n",
       "      <td>art</td>\n",
       "      <td>4586</td>\n",
       "      <td>US</td>\n",
       "      <td>1330926084</td>\n",
       "      <td>USD</td>\n",
       "      <td>1336440145</td>\n",
       "      <td>1.0</td>\n",
       "      <td>...</td>\n",
       "      <td>4586.0</td>\n",
       "      <td>False</td>\n",
       "      <td>4586.0</td>\n",
       "      <td>Washington, DC</td>\n",
       "      <td>True</td>\n",
       "      <td>public art</td>\n",
       "      <td>https://www.kickstarter.com/projects/17146650/...</td>\n",
       "      <td>https://www.kickstarter.com/projects/17146650/...</td>\n",
       "      <td>2012-03-29 01:22:25</td>\n",
       "      <td>2012-05-08 01:22:25</td>\n",
       "    </tr>\n",
       "    <tr>\n",
       "      <th>2</th>\n",
       "      <td>KS_000002</td>\n",
       "      <td>21</td>\n",
       "      <td>The Sequel to ‘My Favorite Machine”, \"MyPhoneH...</td>\n",
       "      <td>art</td>\n",
       "      <td>5217</td>\n",
       "      <td>US</td>\n",
       "      <td>1332382894</td>\n",
       "      <td>USD</td>\n",
       "      <td>1338175739</td>\n",
       "      <td>1.0</td>\n",
       "      <td>...</td>\n",
       "      <td>5217.0</td>\n",
       "      <td>False</td>\n",
       "      <td>5217.0</td>\n",
       "      <td>Frisco, TX</td>\n",
       "      <td>True</td>\n",
       "      <td>sculpture</td>\n",
       "      <td>https://www.kickstarter.com/projects/belveal/m...</td>\n",
       "      <td>https://www.kickstarter.com/projects/belveal/m...</td>\n",
       "      <td>2012-03-29 03:28:59</td>\n",
       "      <td>2012-05-28 03:28:59</td>\n",
       "    </tr>\n",
       "    <tr>\n",
       "      <th>3</th>\n",
       "      <td>KS_000003</td>\n",
       "      <td>37</td>\n",
       "      <td>A film exploring the role and value of art edu...</td>\n",
       "      <td>art</td>\n",
       "      <td>7160</td>\n",
       "      <td>GB</td>\n",
       "      <td>1332342451</td>\n",
       "      <td>USD</td>\n",
       "      <td>1334806096</td>\n",
       "      <td>1.0</td>\n",
       "      <td>...</td>\n",
       "      <td>7160.0</td>\n",
       "      <td>False</td>\n",
       "      <td>7160.0</td>\n",
       "      <td>Glasgow, UK</td>\n",
       "      <td>True</td>\n",
       "      <td>art</td>\n",
       "      <td>https://www.kickstarter.com/projects/107813091...</td>\n",
       "      <td>https://www.kickstarter.com/projects/107813091...</td>\n",
       "      <td>2012-03-29 03:28:16</td>\n",
       "      <td>2012-04-19 03:28:16</td>\n",
       "    </tr>\n",
       "    <tr>\n",
       "      <th>4</th>\n",
       "      <td>KS_000004</td>\n",
       "      <td>153</td>\n",
       "      <td>We need to build a kitchen for Habitable Space...</td>\n",
       "      <td>art</td>\n",
       "      <td>15445</td>\n",
       "      <td>US</td>\n",
       "      <td>1328562617</td>\n",
       "      <td>USD</td>\n",
       "      <td>1335584240</td>\n",
       "      <td>1.0</td>\n",
       "      <td>...</td>\n",
       "      <td>15445.0</td>\n",
       "      <td>False</td>\n",
       "      <td>15445.0</td>\n",
       "      <td>Kingsbury, TX</td>\n",
       "      <td>True</td>\n",
       "      <td>public art</td>\n",
       "      <td>https://www.kickstarter.com/projects/104409276...</td>\n",
       "      <td>https://www.kickstarter.com/projects/104409276...</td>\n",
       "      <td>2012-03-29 03:37:20</td>\n",
       "      <td>2012-04-28 03:37:20</td>\n",
       "    </tr>\n",
       "  </tbody>\n",
       "</table>\n",
       "<p>5 rows × 23 columns</p>\n",
       "</div>"
      ],
      "text/plain": [
       "  project_id  backers_count  \\\n",
       "0  KS_000000             80   \n",
       "1  KS_000001             82   \n",
       "2  KS_000002             21   \n",
       "3  KS_000003             37   \n",
       "4  KS_000004            153   \n",
       "\n",
       "                                               blurb category  \\\n",
       "0  I will be an artist-in-residence at Elsewhere ...      art   \n",
       "1  1000 Artists is a public art-making installati...      art   \n",
       "2  The Sequel to ‘My Favorite Machine”, \"MyPhoneH...      art   \n",
       "3  A film exploring the role and value of art edu...      art   \n",
       "4  We need to build a kitchen for Habitable Space...      art   \n",
       "\n",
       "   converted_pledged_amount country  created_at currency    deadline  fx_rate  \\\n",
       "0                      3596      US  1325980505      USD  1334866560      1.0   \n",
       "1                      4586      US  1330926084      USD  1336440145      1.0   \n",
       "2                      5217      US  1332382894      USD  1338175739      1.0   \n",
       "3                      7160      GB  1332342451      USD  1334806096      1.0   \n",
       "4                     15445      US  1328562617      USD  1335584240      1.0   \n",
       "\n",
       "   ...  pledged  staff_pick usd_pledged        location  funded  subcategory  \\\n",
       "0  ...   3596.0       False      3596.0      Paonia, CO    True  mixed media   \n",
       "1  ...   4586.0       False      4586.0  Washington, DC    True   public art   \n",
       "2  ...   5217.0       False      5217.0      Frisco, TX    True    sculpture   \n",
       "3  ...   7160.0       False      7160.0     Glasgow, UK    True          art   \n",
       "4  ...  15445.0       False     15445.0   Kingsbury, TX    True   public art   \n",
       "\n",
       "                                         project_url  \\\n",
       "0  https://www.kickstarter.com/projects/hilaryeme...   \n",
       "1  https://www.kickstarter.com/projects/17146650/...   \n",
       "2  https://www.kickstarter.com/projects/belveal/m...   \n",
       "3  https://www.kickstarter.com/projects/107813091...   \n",
       "4  https://www.kickstarter.com/projects/104409276...   \n",
       "\n",
       "                                          reward_url        LaunchedDate  \\\n",
       "0  https://www.kickstarter.com/projects/hilaryeme... 2012-03-28 21:14:20   \n",
       "1  https://www.kickstarter.com/projects/17146650/... 2012-03-29 01:22:25   \n",
       "2  https://www.kickstarter.com/projects/belveal/m... 2012-03-29 03:28:59   \n",
       "3  https://www.kickstarter.com/projects/107813091... 2012-03-29 03:28:16   \n",
       "4  https://www.kickstarter.com/projects/104409276... 2012-03-29 03:37:20   \n",
       "\n",
       "         DeadlineDate  \n",
       "0 2012-04-19 20:16:00  \n",
       "1 2012-05-08 01:22:25  \n",
       "2 2012-05-28 03:28:59  \n",
       "3 2012-04-19 03:28:16  \n",
       "4 2012-04-28 03:37:20  \n",
       "\n",
       "[5 rows x 23 columns]"
      ]
     },
     "execution_count": 16,
     "metadata": {},
     "output_type": "execute_result"
    }
   ],
   "source": [
    "df_train.head()"
   ]
  },
  {
   "cell_type": "code",
   "execution_count": 21,
   "metadata": {},
   "outputs": [
    {
     "data": {
      "text/plain": [
       "21"
      ]
     },
     "execution_count": 21,
     "metadata": {},
     "output_type": "execute_result"
    }
   ],
   "source": [
    "df_train['LaunchedDate'][0].hour"
   ]
  },
  {
   "cell_type": "code",
   "execution_count": null,
   "metadata": {},
   "outputs": [],
   "source": [
    "df_train['LaunchedDate'][0].hour\n",
    "df_train['LaunchedDate'][1].hour\n",
    "df_train['LaunchedDate'][2].hour"
   ]
  },
  {
   "cell_type": "code",
   "execution_count": 28,
   "metadata": {},
   "outputs": [],
   "source": [
    "#def get_hour(x):\n",
    "#  return x.hour\n",
    "\n",
    "\n",
    "#df_test['LaunchedDate'].apply(get_hour,x=x)\n",
    "\n",
    "#df_test['LaunchedDate']"
   ]
  },
  {
   "cell_type": "code",
   "execution_count": 29,
   "metadata": {},
   "outputs": [
    {
     "data": {
      "text/html": [
       "<div>\n",
       "<style scoped>\n",
       "    .dataframe tbody tr th:only-of-type {\n",
       "        vertical-align: middle;\n",
       "    }\n",
       "\n",
       "    .dataframe tbody tr th {\n",
       "        vertical-align: top;\n",
       "    }\n",
       "\n",
       "    .dataframe thead th {\n",
       "        text-align: right;\n",
       "    }\n",
       "</style>\n",
       "<table border=\"1\" class=\"dataframe\">\n",
       "  <thead>\n",
       "    <tr style=\"text-align: right;\">\n",
       "      <th></th>\n",
       "      <th>project_id</th>\n",
       "      <th>backers_count</th>\n",
       "      <th>blurb</th>\n",
       "      <th>category</th>\n",
       "      <th>converted_pledged_amount</th>\n",
       "      <th>country</th>\n",
       "      <th>created_at</th>\n",
       "      <th>currency</th>\n",
       "      <th>deadline</th>\n",
       "      <th>fx_rate</th>\n",
       "      <th>...</th>\n",
       "      <th>location</th>\n",
       "      <th>funded</th>\n",
       "      <th>subcategory</th>\n",
       "      <th>project_url</th>\n",
       "      <th>reward_url</th>\n",
       "      <th>LaunchedDate</th>\n",
       "      <th>DeadlineDate</th>\n",
       "      <th>LaunchedHour</th>\n",
       "      <th>LaunchedMonth</th>\n",
       "      <th>LaunchedYear</th>\n",
       "    </tr>\n",
       "  </thead>\n",
       "  <tbody>\n",
       "    <tr>\n",
       "      <th>0</th>\n",
       "      <td>KS_000000</td>\n",
       "      <td>80</td>\n",
       "      <td>I will be an artist-in-residence at Elsewhere ...</td>\n",
       "      <td>art</td>\n",
       "      <td>3596</td>\n",
       "      <td>US</td>\n",
       "      <td>1325980505</td>\n",
       "      <td>USD</td>\n",
       "      <td>1334866560</td>\n",
       "      <td>1.0</td>\n",
       "      <td>...</td>\n",
       "      <td>Paonia, CO</td>\n",
       "      <td>True</td>\n",
       "      <td>mixed media</td>\n",
       "      <td>https://www.kickstarter.com/projects/hilaryeme...</td>\n",
       "      <td>https://www.kickstarter.com/projects/hilaryeme...</td>\n",
       "      <td>2012-03-28 21:14:20</td>\n",
       "      <td>2012-04-19 20:16:00</td>\n",
       "      <td>21</td>\n",
       "      <td>3</td>\n",
       "      <td>2012</td>\n",
       "    </tr>\n",
       "    <tr>\n",
       "      <th>1</th>\n",
       "      <td>KS_000001</td>\n",
       "      <td>82</td>\n",
       "      <td>1000 Artists is a public art-making installati...</td>\n",
       "      <td>art</td>\n",
       "      <td>4586</td>\n",
       "      <td>US</td>\n",
       "      <td>1330926084</td>\n",
       "      <td>USD</td>\n",
       "      <td>1336440145</td>\n",
       "      <td>1.0</td>\n",
       "      <td>...</td>\n",
       "      <td>Washington, DC</td>\n",
       "      <td>True</td>\n",
       "      <td>public art</td>\n",
       "      <td>https://www.kickstarter.com/projects/17146650/...</td>\n",
       "      <td>https://www.kickstarter.com/projects/17146650/...</td>\n",
       "      <td>2012-03-29 01:22:25</td>\n",
       "      <td>2012-05-08 01:22:25</td>\n",
       "      <td>1</td>\n",
       "      <td>3</td>\n",
       "      <td>2012</td>\n",
       "    </tr>\n",
       "    <tr>\n",
       "      <th>2</th>\n",
       "      <td>KS_000002</td>\n",
       "      <td>21</td>\n",
       "      <td>The Sequel to ‘My Favorite Machine”, \"MyPhoneH...</td>\n",
       "      <td>art</td>\n",
       "      <td>5217</td>\n",
       "      <td>US</td>\n",
       "      <td>1332382894</td>\n",
       "      <td>USD</td>\n",
       "      <td>1338175739</td>\n",
       "      <td>1.0</td>\n",
       "      <td>...</td>\n",
       "      <td>Frisco, TX</td>\n",
       "      <td>True</td>\n",
       "      <td>sculpture</td>\n",
       "      <td>https://www.kickstarter.com/projects/belveal/m...</td>\n",
       "      <td>https://www.kickstarter.com/projects/belveal/m...</td>\n",
       "      <td>2012-03-29 03:28:59</td>\n",
       "      <td>2012-05-28 03:28:59</td>\n",
       "      <td>3</td>\n",
       "      <td>3</td>\n",
       "      <td>2012</td>\n",
       "    </tr>\n",
       "    <tr>\n",
       "      <th>3</th>\n",
       "      <td>KS_000003</td>\n",
       "      <td>37</td>\n",
       "      <td>A film exploring the role and value of art edu...</td>\n",
       "      <td>art</td>\n",
       "      <td>7160</td>\n",
       "      <td>GB</td>\n",
       "      <td>1332342451</td>\n",
       "      <td>USD</td>\n",
       "      <td>1334806096</td>\n",
       "      <td>1.0</td>\n",
       "      <td>...</td>\n",
       "      <td>Glasgow, UK</td>\n",
       "      <td>True</td>\n",
       "      <td>art</td>\n",
       "      <td>https://www.kickstarter.com/projects/107813091...</td>\n",
       "      <td>https://www.kickstarter.com/projects/107813091...</td>\n",
       "      <td>2012-03-29 03:28:16</td>\n",
       "      <td>2012-04-19 03:28:16</td>\n",
       "      <td>3</td>\n",
       "      <td>3</td>\n",
       "      <td>2012</td>\n",
       "    </tr>\n",
       "    <tr>\n",
       "      <th>4</th>\n",
       "      <td>KS_000004</td>\n",
       "      <td>153</td>\n",
       "      <td>We need to build a kitchen for Habitable Space...</td>\n",
       "      <td>art</td>\n",
       "      <td>15445</td>\n",
       "      <td>US</td>\n",
       "      <td>1328562617</td>\n",
       "      <td>USD</td>\n",
       "      <td>1335584240</td>\n",
       "      <td>1.0</td>\n",
       "      <td>...</td>\n",
       "      <td>Kingsbury, TX</td>\n",
       "      <td>True</td>\n",
       "      <td>public art</td>\n",
       "      <td>https://www.kickstarter.com/projects/104409276...</td>\n",
       "      <td>https://www.kickstarter.com/projects/104409276...</td>\n",
       "      <td>2012-03-29 03:37:20</td>\n",
       "      <td>2012-04-28 03:37:20</td>\n",
       "      <td>3</td>\n",
       "      <td>3</td>\n",
       "      <td>2012</td>\n",
       "    </tr>\n",
       "  </tbody>\n",
       "</table>\n",
       "<p>5 rows × 26 columns</p>\n",
       "</div>"
      ],
      "text/plain": [
       "  project_id  backers_count  \\\n",
       "0  KS_000000             80   \n",
       "1  KS_000001             82   \n",
       "2  KS_000002             21   \n",
       "3  KS_000003             37   \n",
       "4  KS_000004            153   \n",
       "\n",
       "                                               blurb category  \\\n",
       "0  I will be an artist-in-residence at Elsewhere ...      art   \n",
       "1  1000 Artists is a public art-making installati...      art   \n",
       "2  The Sequel to ‘My Favorite Machine”, \"MyPhoneH...      art   \n",
       "3  A film exploring the role and value of art edu...      art   \n",
       "4  We need to build a kitchen for Habitable Space...      art   \n",
       "\n",
       "   converted_pledged_amount country  created_at currency    deadline  fx_rate  \\\n",
       "0                      3596      US  1325980505      USD  1334866560      1.0   \n",
       "1                      4586      US  1330926084      USD  1336440145      1.0   \n",
       "2                      5217      US  1332382894      USD  1338175739      1.0   \n",
       "3                      7160      GB  1332342451      USD  1334806096      1.0   \n",
       "4                     15445      US  1328562617      USD  1335584240      1.0   \n",
       "\n",
       "   ...        location  funded  subcategory  \\\n",
       "0  ...      Paonia, CO    True  mixed media   \n",
       "1  ...  Washington, DC    True   public art   \n",
       "2  ...      Frisco, TX    True    sculpture   \n",
       "3  ...     Glasgow, UK    True          art   \n",
       "4  ...   Kingsbury, TX    True   public art   \n",
       "\n",
       "                                         project_url  \\\n",
       "0  https://www.kickstarter.com/projects/hilaryeme...   \n",
       "1  https://www.kickstarter.com/projects/17146650/...   \n",
       "2  https://www.kickstarter.com/projects/belveal/m...   \n",
       "3  https://www.kickstarter.com/projects/107813091...   \n",
       "4  https://www.kickstarter.com/projects/104409276...   \n",
       "\n",
       "                                          reward_url        LaunchedDate  \\\n",
       "0  https://www.kickstarter.com/projects/hilaryeme... 2012-03-28 21:14:20   \n",
       "1  https://www.kickstarter.com/projects/17146650/... 2012-03-29 01:22:25   \n",
       "2  https://www.kickstarter.com/projects/belveal/m... 2012-03-29 03:28:59   \n",
       "3  https://www.kickstarter.com/projects/107813091... 2012-03-29 03:28:16   \n",
       "4  https://www.kickstarter.com/projects/104409276... 2012-03-29 03:37:20   \n",
       "\n",
       "         DeadlineDate  LaunchedHour LaunchedMonth LaunchedYear  \n",
       "0 2012-04-19 20:16:00            21             3         2012  \n",
       "1 2012-05-08 01:22:25             1             3         2012  \n",
       "2 2012-05-28 03:28:59             3             3         2012  \n",
       "3 2012-04-19 03:28:16             3             3         2012  \n",
       "4 2012-04-28 03:37:20             3             3         2012  \n",
       "\n",
       "[5 rows x 26 columns]"
      ]
     },
     "execution_count": 29,
     "metadata": {},
     "output_type": "execute_result"
    }
   ],
   "source": [
    "df_test['LaunchedHour'] = df_test['LaunchedDate'].apply(lambda x: x.hour) \n",
    "df_test['LaunchedMonth'] = df_test['LaunchedDate'].apply(lambda x: x.month)\n",
    "df_test['LaunchedYear'] = df_test['LaunchedDate'].apply(lambda x: x.year)\n",
    "df_test.head()\n",
    "\n",
    "df_train['LaunchedHour'] = df_train['LaunchedDate'].apply(lambda x: x.hour) \n",
    "df_train['LaunchedMonth'] = df_train['LaunchedDate'].apply(lambda x: x.month)\n",
    "df_train['LaunchedYear'] = df_train['LaunchedDate'].apply(lambda x: x.year)\n",
    "df_train.head()"
   ]
  },
  {
   "cell_type": "markdown",
   "metadata": {},
   "source": [
    "# 3. Exploratory data analysis"
   ]
  },
  {
   "cell_type": "code",
   "execution_count": null,
   "metadata": {},
   "outputs": [],
   "source": [
    "# One variable summary\n",
    "# Two variable summary (relationship between variables)"
   ]
  },
  {
   "cell_type": "code",
   "execution_count": 30,
   "metadata": {},
   "outputs": [
    {
     "data": {
      "image/png": "[encoded data removed]",
      "text/plain": [
       "<Figure size 432x288 with 1 Axes>"
      ]
     },
     "metadata": {
      "needs_background": "light"
     },
     "output_type": "display_data"
    }
   ],
   "source": [
    "#extract launched hour and state for all states 'successful' and append the same for all states 'failed'.\n",
    "#dff = df_train.loc[df_train['funded'] == True,['LaunchedHour', 'funded']]\n",
    "#.append(df_train.loc[df_train['funded'] == False, ['LaunchedHour', 'funded']])\n",
    "\n",
    "#plot the data\n",
    "ax = sns.countplot(x=df_train['LaunchedHour'], \n",
    "              hue = df_train['funded'])\n",
    "#set labels and title\n",
    "ax.set(xlabel='Launched Hour', ylabel='Number of Projects', title= 'Hour the Project was Launched') \n",
    "plt.show()"
   ]
  },
  {
   "cell_type": "markdown",
   "metadata": {},
   "source": [
    "### There are a few interesting things to observe in the above plot\n",
    "\n",
    "1. In general, there are more projects launched either in the early morning (between 0 am and 5 am) and more projects launched in the late afternoon/evening (between 4 and 23 pm) compared to the time between 7 am and 3 pm.\n",
    "\n",
    "2. The ratio between un-funded and funded projects varies over the time of the day. We can see that the ratio between failed and successful projects is almost 1 for projects launched between 9am and 11 am. In contrary, the ratio for projects launched after 3 pm is much less (in other words: by far more projects failed than succeeded)."
   ]
  },
  {
   "cell_type": "code",
   "execution_count": 31,
   "metadata": {},
   "outputs": [
    {
     "data": {
      "image/png": "[encoded data removed]",
      "text/plain": [
       "<Figure size 432x288 with 1 Axes>"
      ]
     },
     "metadata": {
      "needs_background": "light"
     },
     "output_type": "display_data"
    }
   ],
   "source": [
    "sns.countplot(x=df_train['LaunchedMonth'], \n",
    "              hue = df_train['funded'])\n",
    " \n",
    "ax.set(xlabel='Month of the Year', \n",
    "       ylabel='Number of Projects', \n",
    "       title= 'Month the Project was Launched')\n",
    "plt.show()"
   ]
  },
  {
   "cell_type": "markdown",
   "metadata": {},
   "source": [
    "### Compared to the hour of the day, the months do not seem to reveal any surprising insights. However, note that there are by far fewer projects launched in December compared to all other months."
   ]
  },
  {
   "cell_type": "code",
   "execution_count": 33,
   "metadata": {},
   "outputs": [
    {
     "data": {
      "text/plain": [
       "0       23 days 00:00:00\n",
       "1       19 days 04:57:41\n",
       "2        5 days 00:00:00\n",
       "3       60 days 00:00:00\n",
       "4       18 days 00:26:54\n",
       "              ...       \n",
       "78060   29 days 09:35:34\n",
       "78061   60 days 01:00:00\n",
       "78062   29 days 12:11:37\n",
       "78063   26 days 12:55:02\n",
       "78064   27 days 06:59:40\n",
       "Length: 78065, dtype: timedelta64[ns]"
      ]
     },
     "execution_count": 33,
     "metadata": {},
     "output_type": "execute_result"
    }
   ],
   "source": [
    "(df_test['DeadlineDate'] -df_test['LaunchedDate'])"
   ]
  },
  {
   "cell_type": "code",
   "execution_count": 36,
   "metadata": {},
   "outputs": [
    {
     "data": {
      "text/plain": [
       "0        23.0\n",
       "1        19.0\n",
       "2         5.0\n",
       "3        60.0\n",
       "4        18.0\n",
       "         ... \n",
       "78060    29.0\n",
       "78061    60.0\n",
       "78062    29.0\n",
       "78063    26.0\n",
       "78064    27.0\n",
       "Length: 78065, dtype: float64"
      ]
     },
     "execution_count": 36,
     "metadata": {},
     "output_type": "execute_result"
    }
   ],
   "source": [
    "# 2019-11-09   -  2019-11-30\n",
    "\n",
    "(df_test['DeadlineDate'] -df_test['LaunchedDate']).astype('timedelta64[D]')"
   ]
  },
  {
   "cell_type": "code",
   "execution_count": 37,
   "metadata": {},
   "outputs": [
    {
     "data": {
      "text/plain": [
       "0        1987200.0\n",
       "1        1659461.0\n",
       "2         432000.0\n",
       "3        5184000.0\n",
       "4        1556814.0\n",
       "           ...    \n",
       "78060    2540134.0\n",
       "78061    5187600.0\n",
       "78062    2549497.0\n",
       "78063    2292902.0\n",
       "78064    2357980.0\n",
       "Length: 78065, dtype: float64"
      ]
     },
     "execution_count": 37,
     "metadata": {},
     "output_type": "execute_result"
    }
   ],
   "source": [
    "(df_test['DeadlineDate'] -df_test['LaunchedDate']).astype('timedelta64[s]')"
   ]
  },
  {
   "cell_type": "markdown",
   "metadata": {},
   "source": [
    "#### We compute the project duration (in weeks)"
   ]
  },
  {
   "cell_type": "code",
   "execution_count": 41,
   "metadata": {},
   "outputs": [
    {
     "data": {
      "text/plain": [
       "0    21\n",
       "1    40\n",
       "2    60\n",
       "3    21\n",
       "4    30\n",
       "Name: ProjectDuration_Days, dtype: int32"
      ]
     },
     "execution_count": 41,
     "metadata": {},
     "output_type": "execute_result"
    }
   ],
   "source": [
    "# project duration in Days\n",
    "\n",
    "df_test['ProjectDuration_Days'] =  (df_test['DeadlineDate'] -df_test['LaunchedDate']).astype('timedelta64[D]').astype('int') \n",
    "df_test['ProjectDuration_Days'].head(5)\n",
    "\n",
    "\n",
    "df_train['ProjectDuration_Days'] =  (df_train['DeadlineDate'] -df_train['LaunchedDate']).astype('timedelta64[D]').astype('int') \n",
    "df_train['ProjectDuration_Days'].head(5)"
   ]
  },
  {
   "cell_type": "code",
   "execution_count": 46,
   "metadata": {},
   "outputs": [],
   "source": [
    "colors=('darkred','darkgreen')"
   ]
  },
  {
   "cell_type": "code",
   "execution_count": 42,
   "metadata": {},
   "outputs": [],
   "source": [
    "# A method to bin the days to weeks\n",
    "def discretizer(data, binning_values, labels): \n",
    "    data = pd.cut(data, bins=binning_values, labels=labels)\n",
    "    return data"
   ]
  },
  {
   "cell_type": "code",
   "execution_count": 43,
   "metadata": {},
   "outputs": [
    {
     "name": "stdout",
     "output_type": "stream",
     "text": [
      "0    4\n",
      "1    3\n",
      "2    1\n",
      "3    9\n",
      "4    3\n",
      "Name: ProjectDuration_Weeks, dtype: category\n",
      "Categories (13, int64): [1 < 2 < 3 < 4 ... 10 < 11 < 12 < 13]\n"
     ]
    },
    {
     "data": {
      "text/html": [
       "<div>\n",
       "<style scoped>\n",
       "    .dataframe tbody tr th:only-of-type {\n",
       "        vertical-align: middle;\n",
       "    }\n",
       "\n",
       "    .dataframe tbody tr th {\n",
       "        vertical-align: top;\n",
       "    }\n",
       "\n",
       "    .dataframe thead th {\n",
       "        text-align: right;\n",
       "    }\n",
       "</style>\n",
       "<table border=\"1\" class=\"dataframe\">\n",
       "  <thead>\n",
       "    <tr style=\"text-align: right;\">\n",
       "      <th></th>\n",
       "      <th>ProjectDuration_Days</th>\n",
       "      <th>ProjectDuration_Weeks</th>\n",
       "    </tr>\n",
       "  </thead>\n",
       "  <tbody>\n",
       "    <tr>\n",
       "      <th>0</th>\n",
       "      <td>21</td>\n",
       "      <td>3</td>\n",
       "    </tr>\n",
       "    <tr>\n",
       "      <th>1</th>\n",
       "      <td>40</td>\n",
       "      <td>6</td>\n",
       "    </tr>\n",
       "    <tr>\n",
       "      <th>2</th>\n",
       "      <td>60</td>\n",
       "      <td>9</td>\n",
       "    </tr>\n",
       "    <tr>\n",
       "      <th>3</th>\n",
       "      <td>21</td>\n",
       "      <td>3</td>\n",
       "    </tr>\n",
       "    <tr>\n",
       "      <th>4</th>\n",
       "      <td>30</td>\n",
       "      <td>5</td>\n",
       "    </tr>\n",
       "  </tbody>\n",
       "</table>\n",
       "</div>"
      ],
      "text/plain": [
       "   ProjectDuration_Days ProjectDuration_Weeks\n",
       "0                    21                     3\n",
       "1                    40                     6\n",
       "2                    60                     9\n",
       "3                    21                     3\n",
       "4                    30                     5"
      ]
     },
     "execution_count": 43,
     "metadata": {},
     "output_type": "execute_result"
    }
   ],
   "source": [
    "df_test['ProjectDuration_Weeks'] = discretizer(df_test['ProjectDuration_Days'],\n",
    "  list(range(0,max(df_test['ProjectDuration_Days'])+7,7)),\n",
    " list(range(1,max(list(range(0,max(df_test['ProjectDuration_Days'])//7+2))))))\n",
    "\n",
    "print(df_test['ProjectDuration_Weeks'].head(5)) \n",
    "    \n",
    "    \n",
    "    \n",
    "df_train['ProjectDuration_Weeks'] = discretizer(df_train['ProjectDuration_Days'],\n",
    "  list(range(0,max(df_train['ProjectDuration_Days'])+7,7)),\n",
    " list(range(1,max(list(range(0,max(df_train['ProjectDuration_Days'])//7+2))))))\n",
    "\n",
    "df_train['ProjectDuration_Weeks'].head(5)\n",
    "\n",
    "\n",
    "\n",
    " \n",
    "df_train[['ProjectDuration_Days', 'ProjectDuration_Weeks']].head(5)\n",
    " "
   ]
  },
  {
   "cell_type": "markdown",
   "metadata": {},
   "source": [
    "### No of projects vs  project duration  (for funded and non-funded project)"
   ]
  },
  {
   "cell_type": "code",
   "execution_count": 47,
   "metadata": {},
   "outputs": [
    {
     "data": {
      "image/png": "[encoded data removed]",
      "text/plain": [
       "<Figure size 432x288 with 1 Axes>"
      ]
     },
     "metadata": {
      "needs_background": "light"
     },
     "output_type": "display_data"
    }
   ],
   "source": [
    "sns.countplot(x=df_train['ProjectDuration_Weeks'], \n",
    "              hue = df_train['funded'], palette=colors)\n",
    "plt.show()"
   ]
  },
  {
   "cell_type": "markdown",
   "metadata": {},
   "source": [
    "####  We observe that most projects are put on Kickstarter for about 5 weeks and almost all projects are live between 1 and 9 weeks (more than 2 months).\n",
    "\n",
    "#### The proportion between funded  and non-funded projects varies over time: Projects with a short run time (1–7weeks) succeed relatively more often compared to projects that are launched with a medium to long run time (9  weeks). This insight could support the hypothesis that project are not more likely to funded when they are live long time so that  the more people have the chance to see it over time, the more likely it will succeed.  But from our current data it does not appear so."
   ]
  },
  {
   "cell_type": "code",
   "execution_count": 51,
   "metadata": {},
   "outputs": [
    {
     "data": {
      "image/png": "[encoded data removed]",
      "text/plain": [
       "<Figure size 432x288 with 1 Axes>"
      ]
     },
     "metadata": {
      "needs_background": "light"
     },
     "output_type": "display_data"
    }
   ],
   "source": [
    "#let's use this variable to plot the data over time:\n",
    "ax = sns.lineplot(x=df_train['LaunchedYear'], y= df_train['pledged']/1e8, linewidth= 4, label= 'USD Pledged', color= 'darkgreen')\n",
    "sns.lineplot(x=df_train['LaunchedYear'], y=df_train['goal']/1e8, linewidth= 4,label='USD Goal', color= 'darkred')\n",
    "#set labels and title\n",
    "ax.set(xlabel='Launch Year', ylabel='USD in Billion', title='Comparison Pledged vs Goal over Time')\n",
    "plt.show()"
   ]
  },
  {
   "cell_type": "markdown",
   "metadata": {},
   "source": [
    "####   It can be seen that the accumulated pledged amount  sharply increases from 2013 and has its peak in 2015 before it slowly decreases. On the other hand, the accumulated goal amount for each year steadily decreases but rather linearly. It actually decreased slightly from 2013 to 2016."
   ]
  },
  {
   "cell_type": "code",
   "execution_count": 52,
   "metadata": {
    "scrolled": true
   },
   "outputs": [
    {
     "name": "stdout",
     "output_type": "stream",
     "text": [
      "       Time Difference  funded   pledged\n",
      "0              8886055    True   3596.00\n",
      "1              5514061    True   4586.00\n",
      "2              5792845    True   5217.00\n",
      "3              2463645    True   7160.00\n",
      "4              7021623    True  15445.00\n",
      "...                ...     ...       ...\n",
      "99995          7874359    True   7595.43\n",
      "99996          2734910    True  27196.71\n",
      "99997          7659706    True   7226.00\n",
      "99998          4477340    True  31683.00\n",
      "99999          2868430    True   7555.00\n",
      "\n",
      "[100000 rows x 3 columns]\n"
     ]
    },
    {
     "data": {
      "image/png": "[encoded data removed]",
      "text/plain": [
       "<Figure size 432x288 with 1 Axes>"
      ]
     },
     "metadata": {
      "needs_background": "light"
     },
     "output_type": "display_data"
    }
   ],
   "source": [
    "data = {'Time Difference':  df_train['deadline']-df_train['created_at'], \n",
    "        'funded':df_train['funded'],\n",
    "        'pledged': df_train['pledged']} \n",
    "df_new = pd.DataFrame(data, columns = ['Time Difference', 'funded','pledged']) \n",
    "print(df_new)  \n",
    "\n",
    "colors=('darkred','darkgreen',)\n",
    "ax = sns.scatterplot(x=df_new['pledged']/1e6, \n",
    "                     y=df_new['Time Difference']/3600, \n",
    "                     hue=df_new['funded'], palette=colors)\n",
    "\n",
    "ax.set(xlabel='Amount Pledged in Millions', ylabel='Duration', title= 'Duration vs. Pledged')\n",
    "\n",
    "plt.show()\n"
   ]
  },
  {
   "cell_type": "code",
   "execution_count": 53,
   "metadata": {},
   "outputs": [
    {
     "data": {
      "image/png": "[encoded data removed]",
      "text/plain": [
       "<Figure size 432x288 with 1 Axes>"
      ]
     },
     "metadata": {
      "needs_background": "light"
     },
     "output_type": "display_data"
    }
   ],
   "source": [
    "colors=('darkred','darkgreen')\n",
    "ax = sns.scatterplot(x=df_train['pledged']/1e6, \n",
    "                     y=df_train['goal']/1e6, \n",
    "                     hue=df_train['funded'], palette=colors)\n",
    "#add blue line to better visualize the border between failed and successful projects\n",
    "sns.lineplot(x=(0,50), y=(0,50), color='darkblue')\n",
    "ax.set(ylim=(-1,20), xlim=(-1,20))\n",
    "#set labels and title\n",
    "ax.set(xlabel='Amount Pledged in Millions', ylabel='Goal in Millions', title= 'Goal vs. Pledged')\n",
    "plt.show()\n"
   ]
  },
  {
   "cell_type": "markdown",
   "metadata": {},
   "source": [
    "#### Interestingly, the graph suggests that un-funded projects usually fail without coming even  close to their goal, meaning that they “do not move horizontally towards the blue line but stay at x=0”.  This leads to the conclusion that Kickstarter if we don’t make it,  we probably didn’t even come close. On the other hand, many funded projects exceed their stated goal  by far and pledge a multiple of their initial goal. "
   ]
  },
  {
   "cell_type": "markdown",
   "metadata": {},
   "source": [
    "## Role of backers \n",
    "\n",
    "It is expected that the number of backers contribute positively to the success for a specific project. But is this really true with the data at hand? In order to explore this, we visualize the number of backers, amount pledged and the state of the project."
   ]
  },
  {
   "cell_type": "code",
   "execution_count": 294,
   "metadata": {},
   "outputs": [
    {
     "data": {
      "image/png": "[encoded data removed]",
      "text/plain": [
       "<Figure size 1440x1440 with 16 Axes>"
      ]
     },
     "metadata": {
      "needs_background": "light"
     },
     "output_type": "display_data"
    }
   ],
   "source": [
    "colors = ('darkred','darkgreen')\n",
    "new=['backers_count','pledged','funded']\n",
    "\n",
    "\n",
    "NoS=200\n",
    "\n",
    "fig, axes =plt.subplots(4,4,figsize=(20, 20))\n",
    "\n",
    "for row in  range(4):\n",
    "    for col in  range(4): \n",
    "        df_new=df_train.iloc[random.sample(range(100000),NoS),df_train.columns.isin(new)] \n",
    "        sns.scatterplot(ax=axes[row,col],\n",
    "                    x=df_new['backers_count'], \n",
    "                     y=df_new['pledged']/1e5, \n",
    "                     hue=df_new['funded'], \n",
    "                     palette=colors) \n",
    "     \n",
    "        axes[row,col].set(xlabel='Number of Backers', \n",
    "               ylabel='USD Pledged in Million', \n",
    "               title= 'Backer vs Pledge')\n",
    "    "
   ]
  },
  {
   "cell_type": "markdown",
   "metadata": {},
   "source": [
    "#### From this result, we  can clearly see that the number of backers correlates with the funding status of a project.  Most projects that are not-funded also have a (relatively) smaller number of backers.  "
   ]
  },
  {
   "cell_type": "code",
   "execution_count": 295,
   "metadata": {},
   "outputs": [
    {
     "name": "stdout",
     "output_type": "stream",
     "text": [
      "105857\n",
      "0\n",
      "10266845.74\n",
      "0.0\n"
     ]
    }
   ],
   "source": [
    "print(np.max(df_train['backers_count'].unique()))\n",
    "print(np.min(df_train['backers_count'].unique()))\n",
    "\n",
    "print(np.max(df_train['pledged']))\n",
    "print(np.min(df_train['pledged']))"
   ]
  },
  {
   "cell_type": "code",
   "execution_count": 297,
   "metadata": {},
   "outputs": [
    {
     "data": {
      "text/html": [
       "<div>\n",
       "<style scoped>\n",
       "    .dataframe tbody tr th:only-of-type {\n",
       "        vertical-align: middle;\n",
       "    }\n",
       "\n",
       "    .dataframe tbody tr th {\n",
       "        vertical-align: top;\n",
       "    }\n",
       "\n",
       "    .dataframe thead th {\n",
       "        text-align: right;\n",
       "    }\n",
       "</style>\n",
       "<table border=\"1\" class=\"dataframe\">\n",
       "  <thead>\n",
       "    <tr style=\"text-align: right;\">\n",
       "      <th></th>\n",
       "      <th>mixed media</th>\n",
       "      <th>public art</th>\n",
       "      <th>sculpture</th>\n",
       "      <th>art</th>\n",
       "      <th>painting</th>\n",
       "      <th>conceptual art</th>\n",
       "      <th>digital art</th>\n",
       "      <th>performance art</th>\n",
       "      <th>illustration</th>\n",
       "      <th>ceramics</th>\n",
       "      <th>...</th>\n",
       "      <th>sound</th>\n",
       "      <th>flight</th>\n",
       "      <th>camera equipment</th>\n",
       "      <th>space exploration</th>\n",
       "      <th>fabrication tools</th>\n",
       "      <th>theater</th>\n",
       "      <th>musical</th>\n",
       "      <th>plays</th>\n",
       "      <th>immersive</th>\n",
       "      <th>Col. Total</th>\n",
       "    </tr>\n",
       "  </thead>\n",
       "  <tbody>\n",
       "    <tr>\n",
       "      <th>Funded</th>\n",
       "      <td>199</td>\n",
       "      <td>340</td>\n",
       "      <td>666</td>\n",
       "      <td>290</td>\n",
       "      <td>102</td>\n",
       "      <td>860</td>\n",
       "      <td>119</td>\n",
       "      <td>464</td>\n",
       "      <td>1067</td>\n",
       "      <td>262</td>\n",
       "      <td>...</td>\n",
       "      <td>34</td>\n",
       "      <td>1907</td>\n",
       "      <td>146</td>\n",
       "      <td>359</td>\n",
       "      <td>454</td>\n",
       "      <td>53</td>\n",
       "      <td>600</td>\n",
       "      <td>305</td>\n",
       "      <td>101</td>\n",
       "      <td>41546</td>\n",
       "    </tr>\n",
       "    <tr>\n",
       "      <th>Not-funded</th>\n",
       "      <td>163</td>\n",
       "      <td>88</td>\n",
       "      <td>632</td>\n",
       "      <td>66</td>\n",
       "      <td>57</td>\n",
       "      <td>416</td>\n",
       "      <td>297</td>\n",
       "      <td>819</td>\n",
       "      <td>242</td>\n",
       "      <td>102</td>\n",
       "      <td>...</td>\n",
       "      <td>27</td>\n",
       "      <td>395</td>\n",
       "      <td>214</td>\n",
       "      <td>1015</td>\n",
       "      <td>337</td>\n",
       "      <td>64</td>\n",
       "      <td>575</td>\n",
       "      <td>97</td>\n",
       "      <td>113</td>\n",
       "      <td>58454</td>\n",
       "    </tr>\n",
       "    <tr>\n",
       "      <th>rowtotal</th>\n",
       "      <td>362</td>\n",
       "      <td>428</td>\n",
       "      <td>1298</td>\n",
       "      <td>356</td>\n",
       "      <td>159</td>\n",
       "      <td>1276</td>\n",
       "      <td>416</td>\n",
       "      <td>1283</td>\n",
       "      <td>1309</td>\n",
       "      <td>364</td>\n",
       "      <td>...</td>\n",
       "      <td>61</td>\n",
       "      <td>2302</td>\n",
       "      <td>360</td>\n",
       "      <td>1374</td>\n",
       "      <td>791</td>\n",
       "      <td>117</td>\n",
       "      <td>1175</td>\n",
       "      <td>402</td>\n",
       "      <td>214</td>\n",
       "      <td>100000</td>\n",
       "    </tr>\n",
       "  </tbody>\n",
       "</table>\n",
       "<p>3 rows × 159 columns</p>\n",
       "</div>"
      ],
      "text/plain": [
       "            mixed media  public art  sculpture  art  painting  conceptual art  \\\n",
       "Funded              199         340        666  290       102             860   \n",
       "Not-funded          163          88        632   66        57             416   \n",
       "rowtotal            362         428       1298  356       159            1276   \n",
       "\n",
       "            digital art  performance art  illustration  ceramics  ...  sound  \\\n",
       "Funded              119              464          1067       262  ...     34   \n",
       "Not-funded          297              819           242       102  ...     27   \n",
       "rowtotal            416             1283          1309       364  ...     61   \n",
       "\n",
       "            flight  camera equipment  space exploration  fabrication tools  \\\n",
       "Funded        1907               146                359                454   \n",
       "Not-funded     395               214               1015                337   \n",
       "rowtotal      2302               360               1374                791   \n",
       "\n",
       "            theater  musical  plays  immersive  Col. Total  \n",
       "Funded           53      600    305        101       41546  \n",
       "Not-funded       64      575     97        113       58454  \n",
       "rowtotal        117     1175    402        214      100000  \n",
       "\n",
       "[3 rows x 159 columns]"
      ]
     },
     "execution_count": 297,
     "metadata": {},
     "output_type": "execute_result"
    }
   ],
   "source": [
    "# Exploring the relationshipe between project category-wise funding status \n",
    "Category_funded = pd.crosstab(index=df_train['funded'], \n",
    "                           columns=df_train['subcategory'],\n",
    "                             margins=True)\n",
    "\n",
    "a=list(df_train['subcategory'].unique())\n",
    "a.append('Col. Total')\n",
    "Category_funded.columns= a \n",
    "Category_funded.index= ['Funded','Not-funded','rowtotal']\n",
    "Category_funded"
   ]
  },
  {
   "cell_type": "code",
   "execution_count": 298,
   "metadata": {},
   "outputs": [
    {
     "data": {
      "text/html": [
       "<div>\n",
       "<style scoped>\n",
       "    .dataframe tbody tr th:only-of-type {\n",
       "        vertical-align: middle;\n",
       "    }\n",
       "\n",
       "    .dataframe tbody tr th {\n",
       "        vertical-align: top;\n",
       "    }\n",
       "\n",
       "    .dataframe thead th {\n",
       "        text-align: right;\n",
       "    }\n",
       "</style>\n",
       "<table border=\"1\" class=\"dataframe\">\n",
       "  <thead>\n",
       "    <tr style=\"text-align: right;\">\n",
       "      <th></th>\n",
       "      <th>Funded</th>\n",
       "      <th>Not-funded</th>\n",
       "      <th>Col.total</th>\n",
       "    </tr>\n",
       "  </thead>\n",
       "  <tbody>\n",
       "    <tr>\n",
       "      <th>mixed media</th>\n",
       "      <td>199</td>\n",
       "      <td>163</td>\n",
       "      <td>362</td>\n",
       "    </tr>\n",
       "    <tr>\n",
       "      <th>public art</th>\n",
       "      <td>340</td>\n",
       "      <td>88</td>\n",
       "      <td>428</td>\n",
       "    </tr>\n",
       "    <tr>\n",
       "      <th>sculpture</th>\n",
       "      <td>666</td>\n",
       "      <td>632</td>\n",
       "      <td>1298</td>\n",
       "    </tr>\n",
       "    <tr>\n",
       "      <th>art</th>\n",
       "      <td>290</td>\n",
       "      <td>66</td>\n",
       "      <td>356</td>\n",
       "    </tr>\n",
       "    <tr>\n",
       "      <th>painting</th>\n",
       "      <td>102</td>\n",
       "      <td>57</td>\n",
       "      <td>159</td>\n",
       "    </tr>\n",
       "    <tr>\n",
       "      <th>...</th>\n",
       "      <td>...</td>\n",
       "      <td>...</td>\n",
       "      <td>...</td>\n",
       "    </tr>\n",
       "    <tr>\n",
       "      <th>theater</th>\n",
       "      <td>53</td>\n",
       "      <td>64</td>\n",
       "      <td>117</td>\n",
       "    </tr>\n",
       "    <tr>\n",
       "      <th>musical</th>\n",
       "      <td>600</td>\n",
       "      <td>575</td>\n",
       "      <td>1175</td>\n",
       "    </tr>\n",
       "    <tr>\n",
       "      <th>plays</th>\n",
       "      <td>305</td>\n",
       "      <td>97</td>\n",
       "      <td>402</td>\n",
       "    </tr>\n",
       "    <tr>\n",
       "      <th>immersive</th>\n",
       "      <td>101</td>\n",
       "      <td>113</td>\n",
       "      <td>214</td>\n",
       "    </tr>\n",
       "    <tr>\n",
       "      <th>Row. Total</th>\n",
       "      <td>41546</td>\n",
       "      <td>58454</td>\n",
       "      <td>100000</td>\n",
       "    </tr>\n",
       "  </tbody>\n",
       "</table>\n",
       "<p>159 rows × 3 columns</p>\n",
       "</div>"
      ],
      "text/plain": [
       "             Funded  Not-funded  Col.total\n",
       "mixed media     199         163        362\n",
       "public art      340          88        428\n",
       "sculpture       666         632       1298\n",
       "art             290          66        356\n",
       "painting        102          57        159\n",
       "...             ...         ...        ...\n",
       "theater          53          64        117\n",
       "musical         600         575       1175\n",
       "plays           305          97        402\n",
       "immersive       101         113        214\n",
       "Row. Total    41546       58454     100000\n",
       "\n",
       "[159 rows x 3 columns]"
      ]
     },
     "execution_count": 298,
     "metadata": {},
     "output_type": "execute_result"
    }
   ],
   "source": [
    "# Exploring project category-wise funding status \n",
    "Category_funded = pd.crosstab(index=df_train['subcategory'],\n",
    "                              columns=df_train['funded'],  \n",
    "                             margins=True)\n",
    "\n",
    "a=list(df_train['subcategory'].unique())\n",
    "a.append('Row. Total')\n",
    "Category_funded.index= a \n",
    "Category_funded.columns= ['Funded','Not-funded','Col.total']\n",
    "Category_funded"
   ]
  },
  {
   "cell_type": "code",
   "execution_count": 55,
   "metadata": {},
   "outputs": [
    {
     "data": {
      "text/plain": [
       "8"
      ]
     },
     "execution_count": 55,
     "metadata": {},
     "output_type": "execute_result"
    }
   ],
   "source": [
    "nam=\"JunHeong\"\n",
    "\n",
    "len(nam)"
   ]
  },
  {
   "cell_type": "code",
   "execution_count": 60,
   "metadata": {},
   "outputs": [
    {
     "name": "stdout",
     "output_type": "stream",
     "text": [
      "                                                name  ProNameLength\n",
      "0     Elsewhere Studios artist-in-residency program!           46.0\n",
      "1       1000 Artists: Presidential Inauguration 2013           44.0\n",
      "2                                       MyPhoneHenge           12.0\n",
      "3                                       Walk-Through           12.0\n",
      "4                     A kitchen for Habitable Spaces           30.0\n",
      "5  Source Material: Works by Brian Dupont and Chr...           54.0\n",
      "6                                  A Book of Dwarves           17.0\n",
      "7                              Drawing a Drawing 365           21.0\n",
      "8  The Vermont Studio Center Artist Residency Pro...           50.0\n",
      "9                             Arts on the Waterfront           22.0\n"
     ]
    }
   ],
   "source": [
    "# To find the effect of name length on project funding if any \n",
    "\n",
    "df_test['ProNameLength'] = df_test['name'].str.len()\n",
    "df_train['ProNameLength'] = df_train['name'].str.len()\n",
    "#df_train['ProNameLength'].describe()\n",
    "\n",
    "print(df_train.loc[:,['name','ProNameLength']].head(10))\n",
    " "
   ]
  },
  {
   "cell_type": "code",
   "execution_count": 61,
   "metadata": {},
   "outputs": [
    {
     "data": {
      "text/plain": [
       "project_id                          object\n",
       "backers_count                        int64\n",
       "blurb                               object\n",
       "category                            object\n",
       "converted_pledged_amount             int64\n",
       "country                             object\n",
       "created_at                           int64\n",
       "currency                            object\n",
       "deadline                             int64\n",
       "fx_rate                            float64\n",
       "goal                               float64\n",
       "launched_at                          int64\n",
       "name                                object\n",
       "pledged                            float64\n",
       "staff_pick                            bool\n",
       "usd_pledged                        float64\n",
       "location                            object\n",
       "funded                                bool\n",
       "subcategory                         object\n",
       "project_url                         object\n",
       "reward_url                          object\n",
       "LaunchedDate                datetime64[ns]\n",
       "DeadlineDate                datetime64[ns]\n",
       "LaunchedHour                         int64\n",
       "LaunchedMonth                        int64\n",
       "LaunchedYear                         int64\n",
       "ProjectDuration_Days                 int32\n",
       "ProjectDuration_Weeks             category\n",
       "ProNameLength                      float64\n",
       "dtype: object"
      ]
     },
     "execution_count": 61,
     "metadata": {},
     "output_type": "execute_result"
    }
   ],
   "source": [
    "df_train.dtypes"
   ]
  },
  {
   "cell_type": "code",
   "execution_count": 62,
   "metadata": {},
   "outputs": [
    {
     "data": {
      "image/png": "[encoded data removed]",
      "text/plain": [
       "<Figure size 432x288 with 1 Axes>"
      ]
     },
     "metadata": {
      "needs_background": "light"
     },
     "output_type": "display_data"
    }
   ],
   "source": [
    "ax = sns.scatterplot(y=df_train['pledged']/1e6, \n",
    "                     x=df_train['ProNameLength'], \n",
    "                     hue=df_train['funded'],\n",
    "                     palette=colors)\n",
    "#set labels accordingly\n",
    "ax.set(ylabel='Amount Pledged (Millions)', \n",
    "       xlabel='Character Length of Project Name', \n",
    "       title= 'Role of Project Name in Getting the funding')\n",
    "\n",
    "plt.show()"
   ]
  },
  {
   "cell_type": "code",
   "execution_count": 67,
   "metadata": {},
   "outputs": [
    {
     "data": {
      "image/png": "[encoded data removed]",
      "text/plain": [
       "<Figure size 432x288 with 1 Axes>"
      ]
     },
     "metadata": {
      "needs_background": "light"
     },
     "output_type": "display_data"
    }
   ],
   "source": [
    "df_random=df_train.sample(200)\n",
    "\n",
    "\n",
    "ax = sns.scatterplot(y=df_random['pledged']/1e6, \n",
    "                     x=df_random['ProNameLength'], \n",
    "                     hue=df_random['funded'],\n",
    "                     palette=colors)\n",
    "#set labels accordingly\n",
    "ax.set(ylabel='Amount Pledged (Millions)', \n",
    "       xlabel='Character Length of Project Name', \n",
    "       title= 'Role of Project Name in Getting the funding')\n",
    "\n",
    "plt.show()"
   ]
  },
  {
   "cell_type": "code",
   "execution_count": 68,
   "metadata": {},
   "outputs": [
    {
     "data": {
      "text/plain": [
       "Counter({True: 58454, False: 41546})"
      ]
     },
     "execution_count": 68,
     "metadata": {},
     "output_type": "execute_result"
    }
   ],
   "source": [
    "from collections import Counter\n",
    "Counter(df_train['funded'])"
   ]
  },
  {
   "cell_type": "markdown",
   "metadata": {},
   "source": [
    "### Looks like projects with titles character length more than 60 has a greater propbability to get the funding so we think project name character length could be an additional feature"
   ]
  },
  {
   "cell_type": "code",
   "execution_count": 301,
   "metadata": {},
   "outputs": [
    {
     "data": {
      "text/plain": [
       "{True: 706, False: 158}"
      ]
     },
     "execution_count": 301,
     "metadata": {},
     "output_type": "execute_result"
    }
   ],
   "source": [
    "# Looking at how many poject with length greater than 60 funded (True) or not-funded (False)\n",
    "plength=60\n",
    "\n",
    "df_new=df_train.iloc[df_train[df_train['ProNameLength']>plength].index,df_train.columns.isin(new)]\n",
    "dict(df_new['funded'].value_counts())"
   ]
  },
  {
   "cell_type": "code",
   "execution_count": 302,
   "metadata": {},
   "outputs": [
    {
     "name": "stdout",
     "output_type": "stream",
     "text": [
      "Index(['project_id', 'backers_count', 'blurb', 'category',\n",
      "       'converted_pledged_amount', 'country', 'created_at', 'currency',\n",
      "       'deadline', 'fx_rate', 'goal', 'launched_at', 'name', 'pledged',\n",
      "       'staff_pick', 'usd_pledged', 'location', 'funded', 'subcategory',\n",
      "       'project_url', 'reward_url', 'LaunchedDate', 'DeadlineDate',\n",
      "       'LaunchedHour', 'LaunchedMonth', 'LaunchedYear', 'ProjectDuration_Days',\n",
      "       'ProjectDuration_Weeks', 'ProNameLength'],\n",
      "      dtype='object')\n",
      "Index(['project_id', 'blurb', 'category', 'country', 'created_at', 'currency',\n",
      "       'deadline', 'fx_rate', 'goal', 'launched_at', 'name', 'staff_pick',\n",
      "       'location', 'subcategory', 'project_url', 'reward_url', 'LaunchedDate',\n",
      "       'DeadlineDate', 'LaunchedHour', 'LaunchedMonth', 'LaunchedYear',\n",
      "       'ProjectDuration_Days', 'ProjectDuration_Weeks', 'ProNameLength'],\n",
      "      dtype='object')\n"
     ]
    }
   ],
   "source": [
    "# Relationship among the numerical variables in the data\n",
    "\n",
    "print(df_train.columns)\n",
    "\n",
    "print(df_test.columns)"
   ]
  },
  {
   "cell_type": "markdown",
   "metadata": {},
   "source": [
    "# Relationship (Pearson correlation) between numerical features"
   ]
  },
  {
   "cell_type": "code",
   "execution_count": 303,
   "metadata": {},
   "outputs": [
    {
     "data": {
      "text/html": [
       "<div>\n",
       "<style scoped>\n",
       "    .dataframe tbody tr th:only-of-type {\n",
       "        vertical-align: middle;\n",
       "    }\n",
       "\n",
       "    .dataframe tbody tr th {\n",
       "        vertical-align: top;\n",
       "    }\n",
       "\n",
       "    .dataframe thead th {\n",
       "        text-align: right;\n",
       "    }\n",
       "</style>\n",
       "<table border=\"1\" class=\"dataframe\">\n",
       "  <thead>\n",
       "    <tr style=\"text-align: right;\">\n",
       "      <th></th>\n",
       "      <th>backers_count</th>\n",
       "      <th>converted_pledged_amount</th>\n",
       "      <th>goal</th>\n",
       "      <th>LaunchedHour</th>\n",
       "      <th>ProNameLength</th>\n",
       "      <th>ProjectDuration_Weeks</th>\n",
       "    </tr>\n",
       "  </thead>\n",
       "  <tbody>\n",
       "    <tr>\n",
       "      <th>backers_count</th>\n",
       "      <td>1.000</td>\n",
       "      <td>0.815</td>\n",
       "      <td>0.009</td>\n",
       "      <td>-0.005</td>\n",
       "      <td>0.019</td>\n",
       "      <td>0.003</td>\n",
       "    </tr>\n",
       "    <tr>\n",
       "      <th>converted_pledged_amount</th>\n",
       "      <td>0.815</td>\n",
       "      <td>1.000</td>\n",
       "      <td>0.009</td>\n",
       "      <td>-0.006</td>\n",
       "      <td>0.034</td>\n",
       "      <td>0.010</td>\n",
       "    </tr>\n",
       "    <tr>\n",
       "      <th>goal</th>\n",
       "      <td>0.009</td>\n",
       "      <td>0.009</td>\n",
       "      <td>1.000</td>\n",
       "      <td>0.002</td>\n",
       "      <td>-0.005</td>\n",
       "      <td>0.022</td>\n",
       "    </tr>\n",
       "    <tr>\n",
       "      <th>LaunchedHour</th>\n",
       "      <td>-0.005</td>\n",
       "      <td>-0.006</td>\n",
       "      <td>0.002</td>\n",
       "      <td>1.000</td>\n",
       "      <td>-0.006</td>\n",
       "      <td>-0.026</td>\n",
       "    </tr>\n",
       "    <tr>\n",
       "      <th>ProNameLength</th>\n",
       "      <td>0.019</td>\n",
       "      <td>0.034</td>\n",
       "      <td>-0.005</td>\n",
       "      <td>-0.006</td>\n",
       "      <td>1.000</td>\n",
       "      <td>0.015</td>\n",
       "    </tr>\n",
       "    <tr>\n",
       "      <th>ProjectDuration_Weeks</th>\n",
       "      <td>0.003</td>\n",
       "      <td>0.010</td>\n",
       "      <td>0.022</td>\n",
       "      <td>-0.026</td>\n",
       "      <td>0.015</td>\n",
       "      <td>1.000</td>\n",
       "    </tr>\n",
       "  </tbody>\n",
       "</table>\n",
       "</div>"
      ],
      "text/plain": [
       "                          backers_count  converted_pledged_amount   goal  \\\n",
       "backers_count                     1.000                     0.815  0.009   \n",
       "converted_pledged_amount          0.815                     1.000  0.009   \n",
       "goal                              0.009                     0.009  1.000   \n",
       "LaunchedHour                     -0.005                    -0.006  0.002   \n",
       "ProNameLength                     0.019                     0.034 -0.005   \n",
       "ProjectDuration_Weeks             0.003                     0.010  0.022   \n",
       "\n",
       "                          LaunchedHour  ProNameLength  ProjectDuration_Weeks  \n",
       "backers_count                   -0.005          0.019                  0.003  \n",
       "converted_pledged_amount        -0.006          0.034                  0.010  \n",
       "goal                             0.002         -0.005                  0.022  \n",
       "LaunchedHour                     1.000         -0.006                 -0.026  \n",
       "ProNameLength                   -0.006          1.000                  0.015  \n",
       "ProjectDuration_Weeks           -0.026          0.015                  1.000  "
      ]
     },
     "execution_count": 303,
     "metadata": {},
     "output_type": "execute_result"
    }
   ],
   "source": [
    "features=['backers_count','converted_pledged_amount','goal','LaunchedHour','ProNameLength','fx_rate']\n",
    "#features=['backers_count','converted_pledged_amount','goal','LaunchedHour','ProjectDuration_Weeks']\n",
    "df_train['ProjectDuration_Weeks']=df_train['ProjectDuration_Weeks'].astype(int)\n",
    "features=['backers_count','converted_pledged_amount','goal','LaunchedHour','ProNameLength','ProjectDuration_Weeks']\n",
    "\n",
    "dff= df_train[features]\n",
    "dff.corr().round(3)\n",
    " \n"
   ]
  },
  {
   "cell_type": "markdown",
   "metadata": {},
   "source": [
    "####  The above correlation among the features suggest that most of the variables are uncorrelated with each other which is good for prediction analysis."
   ]
  },
  {
   "cell_type": "code",
   "execution_count": 304,
   "metadata": {},
   "outputs": [
    {
     "data": {
      "text/plain": [
       "0        3\n",
       "1        6\n",
       "2        9\n",
       "3        3\n",
       "4        5\n",
       "        ..\n",
       "99995    5\n",
       "99996    5\n",
       "99997    6\n",
       "99998    5\n",
       "99999    4\n",
       "Name: ProjectDuration_Weeks, Length: 100000, dtype: int64"
      ]
     },
     "execution_count": 304,
     "metadata": {},
     "output_type": "execute_result"
    }
   ],
   "source": [
    "df_train['ProjectDuration_Weeks'].astype(int)"
   ]
  },
  {
   "cell_type": "markdown",
   "metadata": {},
   "source": [
    "# 4. Prediction Analysis (kNN estimator):"
   ]
  },
  {
   "cell_type": "markdown",
   "metadata": {},
   "source": [
    "## 4a. kNN-based Prediction Analysis:"
   ]
  },
  {
   "cell_type": "code",
   "execution_count": 69,
   "metadata": {},
   "outputs": [
    {
     "name": "stdout",
     "output_type": "stream",
     "text": [
      "goal                     0\n",
      "LaunchedHour             0\n",
      "ProNameLength            1\n",
      "ProjectDuration_Weeks    0\n",
      "staff_pick               0\n",
      "funded                   0\n",
      "dtype: int64\n",
      "goal                     0\n",
      "LaunchedHour             0\n",
      "ProNameLength            0\n",
      "ProjectDuration_Weeks    0\n",
      "staff_pick               0\n",
      "funded                   0\n",
      "dtype: int64\n"
     ]
    },
    {
     "data": {
      "text/plain": [
       "(99999, 6)"
      ]
     },
     "execution_count": 69,
     "metadata": {},
     "output_type": "execute_result"
    }
   ],
   "source": [
    "# WE have not included 'backers_count','converted_pledged_amount'\n",
    "\n",
    "features=['goal','LaunchedHour','ProNameLength','ProjectDuration_Weeks','staff_pick','funded']\n",
    "        \n",
    "\n",
    "\n",
    "print(df_train[features].isnull().sum())\n",
    "\n",
    "# Removing observation with NaN values\n",
    "\n",
    "df=df_train[features].dropna()\n",
    "\n",
    "print(df.isnull().sum())\n",
    "\n",
    "df.head()\n",
    "df.shape"
   ]
  },
  {
   "cell_type": "markdown",
   "metadata": {},
   "source": [
    "## 4b.Choosing the value of K using 5-fold cross-validation:"
   ]
  },
  {
   "cell_type": "code",
   "execution_count": 70,
   "metadata": {
    "scrolled": true
   },
   "outputs": [
    {
     "name": "stdout",
     "output_type": "stream",
     "text": [
      "{'n_neighbors': 19}\n",
      "The optimal value of K using the validation data is  19\n"
     ]
    }
   ],
   "source": [
    "# Form the Training and Validation data from the Training set\n",
    "\n",
    "# Original Training set\n",
    "Y=df['funded']\n",
    "X=df.drop(['funded'],axis=1) \n",
    "\n",
    "\n",
    "# Train (85%) and Validation data (15%) split\n",
    "\n",
    "X_train, X_valid, Y_train, Y_valid=train_test_split(X, Y, test_size=0.15)\n",
    "\n",
    "# CROSS VALDATION with cross-validation factor 5\n",
    "# Obtaining value of K using Validation data set with Cross-validation factor of 5\n",
    "\n",
    "\n",
    " \n",
    "knn = KNeighborsClassifier()  #Knn model\n",
    "\n",
    "param_grid = {\"n_neighbors\": np.arange(1, 25)} #create a dictionary of all values we want to test for n_neighbors\n",
    "\n",
    "knn_gscv = GridSearchCV(knn, param_grid, cv=5) #use gridsearch to test all values for n_neighbors\n",
    "\n",
    "knn_gscv.fit(X_valid, Y_valid)        #fit Knn-model to validataion data sets\n",
    "\n",
    "print(knn_gscv.best_params_ )          #Best K value\n",
    "\n",
    "print(\"The optimal value of K using the validation data is \",knn_gscv.best_params_['n_neighbors'])\n",
    "\n",
    " \n"
   ]
  },
  {
   "cell_type": "markdown",
   "metadata": {},
   "source": [
    " # Using optimal K in the training data set\n",
    "\n"
   ]
  },
  {
   "cell_type": "code",
   "execution_count": 71,
   "metadata": {},
   "outputs": [
    {
     "name": "stdout",
     "output_type": "stream",
     "text": [
      "The average accuracy (in percentage) using optimal value of K in the training data set is 68.04668290215179\n"
     ]
    }
   ],
   "source": [
    "# Using optimal value in the training set\n",
    "\n",
    "knn_train = KNeighborsClassifier(n_neighbors=knn_gscv.best_params_['n_neighbors'] )\n",
    "knn_train.fit(X_train, Y_train)\n",
    "\n",
    "print(\"The average accuracy (in percentage) using optimal value of K in the training data set is {}\".format(knn_train.score(X_train,Y_train)*100))\n"
   ]
  },
  {
   "cell_type": "markdown",
   "metadata": {},
   "source": [
    " # Using optimal K in the test data set\n",
    "\n"
   ]
  },
  {
   "cell_type": "code",
   "execution_count": 309,
   "metadata": {},
   "outputs": [
    {
     "name": "stdout",
     "output_type": "stream",
     "text": [
      "[False  True  True ... False False  True]\n"
     ]
    }
   ],
   "source": [
    "# Using optimal value in the test set\n",
    "features=['goal','LaunchedHour','ProNameLength','ProjectDuration_Weeks','staff_pick']\n",
    " \n",
    "    \n",
    "df_test.columns    \n",
    " \n",
    "Predicted_funded_knn=knn_train.predict(df_test[features])\n",
    " \n",
    "print(Predicted_funded_knn)"
   ]
  },
  {
   "cell_type": "markdown",
   "metadata": {},
   "source": [
    "# 4. Prediction Analysis:  (Decision tree estimator):"
   ]
  },
  {
   "cell_type": "code",
   "execution_count": 72,
   "metadata": {},
   "outputs": [
    {
     "name": "stdout",
     "output_type": "stream",
     "text": [
      "{'criterion': 'gini', 'max_depth': 5, 'max_leaf_nodes': 10, 'min_samples_leaf': 1, 'min_samples_split': 2}\n"
     ]
    }
   ],
   "source": [
    "# CART\n",
    "tree_model = DecisionTreeClassifier()  # Decision tree\n",
    "\n",
    "param_grid = {\"criterion\": [\"gini\", \"entropy\"],\n",
    "              \"min_samples_split\": [2, 10, 20],\n",
    "              \"max_depth\": [None, 2, 5, 10],\n",
    "              \"min_samples_leaf\": [1, 5, 10],\n",
    "              \"max_leaf_nodes\": [None, 5, 10, 20],\n",
    "              }\n",
    "\n",
    "tree_gscv = GridSearchCV(tree_model, param_grid, cv=5) #use gridsearch to test all values for the parameters\n",
    "\n",
    "tree_gscv.fit(X_valid, Y_valid)        #fit tree model to validation data\n",
    "\n",
    "print(tree_gscv.best_params_ )          #check top performing n_neighbors value\n",
    "\n",
    " \n",
    "\n",
    "\n",
    " "
   ]
  },
  {
   "cell_type": "markdown",
   "metadata": {},
   "source": [
    " # Using optimal parameters in the training data set\n",
    "\n"
   ]
  },
  {
   "cell_type": "code",
   "execution_count": 73,
   "metadata": {},
   "outputs": [
    {
     "name": "stdout",
     "output_type": "stream",
     "text": [
      "The average accuracy (in percentage) using optimal parameter value of in the training data set is 69.27493264626644\n"
     ]
    }
   ],
   "source": [
    " \n",
    "fit=tree_gscv.fit(X_train, Y_train)\n",
    "\n",
    "print(\"The average accuracy (in percentage) using optimal parameter value of in the training data set is {}\".format(fit.score(X_train, Y_train)*100))\n"
   ]
  },
  {
   "cell_type": "markdown",
   "metadata": {},
   "source": [
    " # Using optimal parameters in the test data set\n",
    "\n"
   ]
  },
  {
   "cell_type": "code",
   "execution_count": 312,
   "metadata": {},
   "outputs": [
    {
     "name": "stdout",
     "output_type": "stream",
     "text": [
      "[ True  True False ...  True False  True]\n"
     ]
    }
   ],
   "source": [
    "# Using optimal value in the test set\n",
    "features=['goal','LaunchedHour','ProNameLength','ProjectDuration_Weeks','staff_pick']\n",
    " \n",
    "    \n",
    "df_test.columns    \n",
    " \n",
    "Predicted_funded_tree=fit.predict(df_test[features])\n",
    " \n",
    "print(Predicted_funded_tree)"
   ]
  },
  {
   "cell_type": "markdown",
   "metadata": {},
   "source": [
    "# 5. Performance analysis of Prediction"
   ]
  },
  {
   "cell_type": "code",
   "execution_count": 313,
   "metadata": {},
   "outputs": [
    {
     "name": "stdout",
     "output_type": "stream",
     "text": [
      "KNN: The average accuracy (in percentage) using optimal value of K in the training data set is 67.41138131036836\n",
      "TREE: The average accuracy (in percentage) using optimal paramter value in the training data set is 69.40787538676926\n"
     ]
    }
   ],
   "source": [
    "## For the Knn\n",
    "print(\"KNN: The average accuracy (in percentage) using optimal value of K in the training data set is {}\".format(knn_train.score(X_train,Y_train)*100))\n",
    "\n",
    "\n",
    "## For the Decision-tree classifer\n",
    "\n",
    "print(\"TREE: The average accuracy (in percentage) using optimal paramter value in the training data set is {}\".format(fit.score(X_train, Y_train)*100))\n"
   ]
  },
  {
   "cell_type": "markdown",
   "metadata": {},
   "source": [
    "# 6. Feature Selection\n",
    "\n",
    "###  Here we use only the training data sets because we found that the features  'backers_count','converted_pledged_amount' improves the prediction accuracy by nearly 30% if inlcuded for analysis. Since these features are not available for the test data, we use only the training set.\n"
   ]
  },
  {
   "cell_type": "code",
   "execution_count": 314,
   "metadata": {},
   "outputs": [
    {
     "name": "stdout",
     "output_type": "stream",
     "text": [
      "{'n_neighbors': 4}\n",
      "The optimal value of K using the validation data is  4\n",
      "The average accuracy (in percentage) using optimal value of K in the training data set is 99.09881292721091\n"
     ]
    }
   ],
   "source": [
    "features=['backers_count','converted_pledged_amount','goal','LaunchedHour','ProNameLength','ProjectDuration_Weeks','staff_pick','funded']\n",
    " \n",
    "# Removing observation with NaN values\n",
    "\n",
    "df=df_train[features].dropna()\n",
    "\n",
    " \n",
    "# Original Training set\n",
    "Y=df['funded']\n",
    "X=df.drop(['funded'],axis=1) \n",
    "\n",
    "\n",
    "# Train (85%) and Validation data (15%) split\n",
    "\n",
    "X_train, X_valid, Y_train, Y_valid=train_test_split(X, Y, test_size=0.15)\n",
    "\n",
    "# CROSS VALDATION with cross-validation factor 5\n",
    "# Obtaining value of K using Validation data set with Cross-validation factor of 5\n",
    "\n",
    "\n",
    " \n",
    "knn = KNeighborsClassifier()  #Knn model\n",
    "\n",
    "param_grid = {\"n_neighbors\": np.arange(1, 25)} #create a dictionary of all values we want to test for n_neighbors\n",
    "\n",
    "knn_gscv = GridSearchCV(knn, param_grid, cv=5) #use gridsearch to test all values for n_neighbors\n",
    "\n",
    "knn_gscv.fit(X_valid, Y_valid)        #fit Knn-model to validataion data sets\n",
    "\n",
    "print(knn_gscv.best_params_ )          #Best K value\n",
    "\n",
    "print(\"The optimal value of K using the validation data is \",knn_gscv.best_params_['n_neighbors'])\n",
    "\n",
    "\n",
    "knn_train = KNeighborsClassifier(n_neighbors=knn_gscv.best_params_['n_neighbors'] )\n",
    "knn_train.fit(X_train, Y_train)\n",
    "\n",
    "print(\"The average accuracy (in percentage) using optimal value of K in the training data set is {}\".format(knn_train.score(X_train,Y_train)*100))\n",
    "\n",
    "\n",
    "\n",
    "\n"
   ]
  },
  {
   "cell_type": "code",
   "execution_count": 315,
   "metadata": {},
   "outputs": [
    {
     "name": "stdout",
     "output_type": "stream",
     "text": [
      "{'criterion': 'entropy', 'max_depth': 10, 'max_leaf_nodes': None, 'min_samples_leaf': 5, 'min_samples_split': 2}\n"
     ]
    }
   ],
   "source": [
    " \n",
    "tree_model = DecisionTreeClassifier()  # Decision tree\n",
    "\n",
    "param_grid = {\"criterion\": [\"gini\", \"entropy\"],\n",
    "              \"min_samples_split\": [2, 10, 20],\n",
    "              \"max_depth\": [None, 2, 5, 10],\n",
    "              \"min_samples_leaf\": [1, 5, 10],\n",
    "              \"max_leaf_nodes\": [None, 5, 10, 20],\n",
    "              }\n",
    "\n",
    "tree_gscv = GridSearchCV(tree_model, param_grid, cv=5) #use gridsearch to test all values for the parameters\n",
    "\n",
    "tree_gscv.fit(X_valid, Y_valid)        #fit tree model to validation data\n",
    "\n",
    "print(tree_gscv.best_params_ )          #check top performing n_neighbors value\n",
    "\n",
    "   \n",
    "    \n",
    "fit=tree_gscv.fit(X_train, Y_train)\n",
    "\n"
   ]
  },
  {
   "cell_type": "code",
   "execution_count": 316,
   "metadata": {},
   "outputs": [
    {
     "name": "stdout",
     "output_type": "stream",
     "text": [
      "KNN: The average accuracy (in percentage) using optimal value of K in the training data set is 99.09881292721091\n",
      "TREE: The average accuracy (in percentage) using optimal paramter value in the training data set is 98.98939987529265\n"
     ]
    }
   ],
   "source": [
    "## For the Knn\n",
    "print(\"KNN: The average accuracy (in percentage) using optimal value of K in the training data set is {}\".format(knn_train.score(X_train,Y_train)*100))\n",
    "\n",
    "\n",
    "## For the Decision-tree classifer\n",
    "\n",
    "print(\"TREE: The average accuracy (in percentage) using optimal paramter value in the training data set is {}\".format(fit.score(X_train, Y_train)*100))\n"
   ]
  },
  {
   "cell_type": "markdown",
   "metadata": {},
   "source": [
    "###  We note that with the training set and the new additional features that is 'backers_count','converted_pledged_amount'  the prediction accuracy improves!\n"
   ]
  },
  {
   "cell_type": "code",
   "execution_count": 74,
   "metadata": {},
   "outputs": [],
   "source": [
    "## K-means clustering\n",
    "from sklearn.cluster import KMeans"
   ]
  },
  {
   "cell_type": "code",
   "execution_count": 75,
   "metadata": {},
   "outputs": [
    {
     "data": {
      "text/plain": [
       "KMeans(algorithm='auto', copy_x=True, init='k-means++', max_iter=300,\n",
       "       n_clusters=2, n_init=10, n_jobs=None, precompute_distances='auto',\n",
       "       random_state=None, tol=0.0001, verbose=0)"
      ]
     },
     "execution_count": 75,
     "metadata": {},
     "output_type": "execute_result"
    }
   ],
   "source": [
    " model=KMeans(2)  # Funded  and non-funded\n",
    " model.fit(X)  # only two features"
   ]
  },
  {
   "cell_type": "code",
   "execution_count": 76,
   "metadata": {},
   "outputs": [
    {
     "data": {
      "text/plain": [
       "array([[2.80016458e+04, 1.35199192e+01, 3.49754448e+01, 5.35329419e+00,\n",
       "        1.39529301e-01],\n",
       "       [8.23950000e+07, 1.44000000e+01, 3.47000000e+01, 6.65000000e+00,\n",
       "        2.77555756e-17]])"
      ]
     },
     "execution_count": 76,
     "metadata": {},
     "output_type": "execute_result"
    }
   ],
   "source": [
    "model.cluster_centers_"
   ]
  },
  {
   "cell_type": "code",
   "execution_count": null,
   "metadata": {},
   "outputs": [],
   "source": [
    "features=['goal','LaunchedHour','ProNameLength','ProjectDuration_Weeks','staff_pick']\n",
    " "
   ]
  },
  {
   "cell_type": "code",
   "execution_count": 79,
   "metadata": {},
   "outputs": [
    {
     "data": {
      "image/png": "[encoded data removed]",
      "text/plain": [
       "<Figure size 432x288 with 1 Axes>"
      ]
     },
     "metadata": {
      "needs_background": "light"
     },
     "output_type": "display_data"
    }
   ],
   "source": [
    "plt.scatter(X.iloc[:,0],X.iloc[:,1],c=model.labels_,cmap='gist_rainbow')   # hue is sns\n",
    "plt.xlabel(\"Goal\")\n",
    "plt.ylabel(\"Launched Hour\")\n",
    "plt.show()"
   ]
  },
  {
   "cell_type": "code",
   "execution_count": 82,
   "metadata": {},
   "outputs": [
    {
     "data": {
      "image/png": "[encoded data removed]",
      "text/plain": [
       "<Figure size 432x288 with 1 Axes>"
      ]
     },
     "metadata": {
      "needs_background": "light"
     },
     "output_type": "display_data"
    }
   ],
   "source": [
    "plt.scatter(X.iloc[:,1],X.iloc[:,4],c=model.labels_,cmap='gist_rainbow')   # hue is sns\n",
    "plt.ylabel(\"Project name length\")\n",
    "plt.xlabel(\"Launched Hour\")\n",
    "plt.show() "
   ]
  },
  {
   "cell_type": "code",
   "execution_count": null,
   "metadata": {},
   "outputs": [],
   "source": []
  }
 ],
 "metadata": {
  "kernelspec": {
   "display_name": "Python 3 (ipykernel)",
   "language": "python",
   "name": "python3"
  },
  "language_info": {
   "codemirror_mode": {
    "name": "ipython",
    "version": 3
   },
   "file_extension": ".py",
   "mimetype": "text/x-python",
   "name": "python",
   "nbconvert_exporter": "python",
   "pygments_lexer": "ipython3",
   "version": "3.8.12"
  }
 },
 "nbformat": 4,
 "nbformat_minor": 4
}
